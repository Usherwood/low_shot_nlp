{
 "cells": [
  {
   "cell_type": "markdown",
   "metadata": {},
   "source": [
    "https://arxiv.org/ftp/arxiv/papers/1305/1305.6143.pdf"
   ]
  },
  {
   "cell_type": "code",
   "execution_count": 1,
   "metadata": {
    "colab": {
     "base_uri": "https://localhost:8080/",
     "height": 122
    },
    "colab_type": "code",
    "executionInfo": {
     "elapsed": 31671,
     "status": "ok",
     "timestamp": 1555094153937,
     "user": {
      "displayName": "Peter Usherwood",
      "photoUrl": "https://lh4.googleusercontent.com/-UfWGFihAdag/AAAAAAAAAAI/AAAAAAAAAI4/dINHEXgZkiQ/s64/photo.jpg",
      "userId": "11459160037307263961"
     },
     "user_tz": 180
    },
    "id": "yi9kMKJo85hI",
    "outputId": "0ac75db3-333a-4d86-9ecc-d7462aeb0cfc"
   },
   "outputs": [],
   "source": [
    "import pandas as pd\n",
    "import pathlib\n",
    "import matplotlib.pyplot as plt\n",
    "import regex as re\n",
    "import numpy as np\n",
    "\n",
    "from sklearn.metrics import f1_score\n",
    "from sklearn.model_selection import train_test_split\n",
    "from sklearn.feature_extraction.text import CountVectorizer\n",
    "from sklearn.svm import SVC\n",
    "from sklearn.naive_bayes import MultinomialNB\n",
    "from sklearn.metrics import accuracy_score, confusion_matrix"
   ]
  },
  {
   "cell_type": "code",
   "execution_count": 2,
   "metadata": {},
   "outputs": [],
   "source": [
    "def clean_text_for_language_model(text, remove_users=True, remove_urls=True, remove_numbers=True):\n",
    "    \"\"\"\n",
    "    Cleans text for deep learning language models, applies pre tokenization\n",
    "\n",
    "    :param text: Str, text string\n",
    "\n",
    "    :return: cleaned string\n",
    "    \"\"\"\n",
    "\n",
    "    re_repetition = re.compile(r'(\\S)(\\1{3,})') #repetition of multiple non-whitespace characters\n",
    "    re_word_repetition = re.compile(r'(\\b\\w+\\W+)(\\1{3,})') #repetition of multiple words\n",
    "\n",
    "    s = text\n",
    "    s = re_repetition.sub(replace_repeated_character, s)\n",
    "    s = re_word_repetition.sub(replace_repeated_word, s)\n",
    "    s = lower_and_add_toks_for_case(s)\n",
    "    s = add_spaces_to_hashtags_and_slashes(s)\n",
    "    s = remove_multiple_whitespace_from_string(s)\n",
    "    s = add_start_of_doc_tokens(s)\n",
    "    s = replace_repeated_punc(s)\n",
    "    if remove_numbers:\n",
    "        s = replace_numbers(s)\n",
    "    if remove_users:\n",
    "        s = extract_mentioned_users(s,\n",
    "                                    remove_users=False,\n",
    "                                    replace_with_token=True,\n",
    "                                    token_to_replace='[USER]')[0]\n",
    "    if remove_urls:\n",
    "        s = extract_urls(s,\n",
    "                         remove_urls=False,\n",
    "                         replace_with_token=True,\n",
    "                         token_to_replace='[URL]')[0]\n",
    "    return s\n",
    "\n",
    "\n",
    "def replace_repeated_character(m):\n",
    "    \"\"\"\n",
    "    The expression to sub for repeated letters\n",
    "\n",
    "    :param m: the match of the regex\n",
    "\n",
    "    :return: substituted string\n",
    "    \"\"\"\n",
    "    TK_REP = '_tk_rep_char_'\n",
    "    c, cc = m.groups()\n",
    "    return f' {TK_REP} {len(cc)+1} {c} '\n",
    "\n",
    "\n",
    "def replace_repeated_word(m):\n",
    "    \"\"\"\n",
    "    The expression to sub for repeated words\n",
    "\n",
    "    :param m: the match of the regex\n",
    "\n",
    "    :return: substituted string\n",
    "    \"\"\"\n",
    "    TK_WREP = '_tk_rep_word_'\n",
    "    c, cc = m.groups()\n",
    "    return f' {TK_WREP} {len(cc.split())+1} {c} '\n",
    "\n",
    "\n",
    "def replace_repeated_punc(s):\n",
    "    \"\"\"\n",
    "    Replace repeated punctuation and newline characters\n",
    "\n",
    "    :param s: text string\n",
    "\n",
    "    :return: modified text string\n",
    "    \"\"\"\n",
    "    s = re.sub(r'([^\\w\\d\\s]|\\n)(\\s\\1)+', r'_multi_punc_ \\1', s)\n",
    "    return s\n",
    "\n",
    "\n",
    "def remove_multiple_whitespace_from_string(s):\n",
    "    s = re.sub(' {2,}', ' ', s)\n",
    "    return s\n",
    "\n",
    "\n",
    "def add_spaces_to_hashtags_and_slashes(s):\n",
    "    s = re.sub(r'([/#])', r' \\1 ', s)\n",
    "    return s\n",
    "\n",
    "\n",
    "def add_start_of_doc_tokens(s):\n",
    "    TOK_DOC, TOK_SEC = '_tk_doc_', '_tk_section_'\n",
    "\n",
    "    for size, section_start in re.findall(r'\\n\\s((?:=\\s)*=)\\s([^=]+)\\s\\1\\s\\n', s):\n",
    "        if size == '=':\n",
    "            token = TOK_DOC\n",
    "        else:\n",
    "            token = TOK_SEC\n",
    "\n",
    "        s = re.sub(re.escape(size + ' ' + section_start + ' ' + size), token + ' ' + section_start + '.', s)\n",
    "\n",
    "    return s\n",
    "\n",
    "\n",
    "def lower_and_add_toks_for_case(s):\n",
    "    TOK_UP, TOK_SENT, TOK_MIX = ' _tk_up_ ', ' _tk_st_ ', ' _tk_mx_ '\n",
    "    res = []\n",
    "    prev = '.'\n",
    "    re_word = re.compile('\\w')\n",
    "    re_nonsp = re.compile('\\S')\n",
    "    for token in re.findall(r'\\w+|\\W+', s):\n",
    "        if token.isupper() and len(token) > 2:\n",
    "            res += [TOK_UP, token.lower()]\n",
    "        else:\n",
    "            res += [token.lower()]\n",
    "    return ''.join(res)\n",
    "\n",
    "\n",
    "def replace_numbers(s):\n",
    "    TOK_NUM = '_number_'\n",
    "\n",
    "    s = re.sub(r'[0-9]+', TOK_NUM, s)\n",
    "\n",
    "    return s\n",
    "\n",
    "\n",
    "def fixup(s):\n",
    "    re1 = re.compile(r'  +')\n",
    "    s = s.replace('#39;', \"'\").replace('amp;', '&').replace('#146;', \"'\").replace(\n",
    "        'nbsp;', ' ').replace('#36;', '$').replace('\\\\n', \"\\n\").replace('quot;', \"'\").replace(\n",
    "        '<br />', \"\\n\").replace('\\\\\"', '\"').replace('<unk>','u_n').replace(' @.@ ','.').replace(\n",
    "        ' @-@ ','-').replace('\\\\', ' \\\\ ')\n",
    "    return re1.sub(' ', html.unescape(s))\n",
    "\n",
    "\n",
    "def tokenizer_word(text_string,\n",
    "                   keep_phrases=False,\n",
    "                   tokenize_punc=False,\n",
    "                   split_clitics=False,\n",
    "                   keep_preceeding_space=False):\n",
    "    \"\"\"\n",
    "    Tokenizer that tokenizes a string of text on spaces and new lines (regardless of however many of each.)\n",
    "\n",
    "    :param text_string: Python string object to be tokenized.\n",
    "    :param keep_phrases: Booalean will not split \"quoted\" text\n",
    "    :param tokenize_punc: Boolean, if true will tokenize punctuation so \"hello,\" becomes [\"hello\", \",\"]\n",
    "    :param split_clitics: Boolean, if true will split tokens such as \"I'm\" into [I, 'm], must be tokenizing punctuation\n",
    "\n",
    "    :return: Array of strings, each is a word\n",
    "    \"\"\"\n",
    "\n",
    "    text_string = str(text_string)\n",
    "\n",
    "    if keep_phrases:\n",
    "        tokens = shlex.split(text_string.replace('\\n', ' ').replace('/', ' '))\n",
    "    elif tokenize_punc:\n",
    "        if split_clitics:\n",
    "            if keep_preceeding_space:\n",
    "                tokens = regex.findall(\n",
    "                    r\"(?<!\\s)'[\\w]*\"  # an apostrophe and potentially some other charaters, that come after non-whitespace\n",
    "                    \"|\\s?'\"  # an apostrophe, preceeded by whitespace\n",
    "                    \"|\\s?[\\w]+\"  # one or more word characters\n",
    "                    \"|\\s?[.,!?\\-;=\\n]\"  # any single character of [.,!?\\-;=\\n]\n",
    "                    \"| \\X\"\n",
    "                    \"|\\X\"\n",
    "                    , text_string, re.UNICODE)\n",
    "            else:\n",
    "                tokens = re.findall(r\"(?<!\\s)'[\\w]*|(?<=\\s)'|[\\w]+|[.,!?\\-;=\\n]\", text_string, re.UNICODE)\n",
    "        else:\n",
    "            tokens = re.findall(r\"[\\w']+|[.,!?\\-;=\\n]\", text_string)\n",
    "    else:\n",
    "        tokens = text_string.replace('\\n', ' ').replace('/', ' ').split()\n",
    "\n",
    "    return tokens\n",
    "\n",
    "\n",
    "def extract_mentioned_users(text_string,\n",
    "                            remove_users=False,\n",
    "                            replace_with_token=True,\n",
    "                            token_to_replace='[USER]'):\n",
    "    \"\"\"\n",
    "    Extracts mentioned_users from a text_string\n",
    "\n",
    "    :param text_string: String of text you wish to extract mentioned_users from\n",
    "    :param remove_users: Boolean, if True it will remove the mentioned_users from the text_string\n",
    "    :param replace_with_token: Boolean, replace the users in the original string with a marker token\n",
    "    :param token_to_replace: Str, the token to replace the user\n",
    "\n",
    "    :return: text_sting: Sting as input but with mentioned_users removed if specified\n",
    "    :return: mentioned_users: List of unique mentioned_users in the text_string\n",
    "    \"\"\"\n",
    "\n",
    "    if text_string is np.nan:\n",
    "        text_string = ''\n",
    "\n",
    "    mentioned_users = list(set(re.findall(r\"@\\w+\", text_string)))\n",
    "\n",
    "    if replace_with_token:\n",
    "        text_string = re.sub(r\"@\\w+\",\n",
    "                             token_to_replace,\n",
    "                             text_string)\n",
    "\n",
    "    if remove_users and not replace_with_token:\n",
    "        text_string = re.sub(r\"@\\w+\",\n",
    "                             '',\n",
    "                             text_string)\n",
    "\n",
    "    return text_string, mentioned_users\n",
    "\n",
    "\n",
    "def extract_urls(text_string,\n",
    "                 remove_urls=False,\n",
    "                 replace_with_token=True,\n",
    "                 token_to_replace='[URL]'):\n",
    "    \"\"\"\n",
    "    Extracts url from a text_string\n",
    "\n",
    "    :param text_string: String of text you wish to extract url from\n",
    "    :param remove_urls: Boolean, if True it will remove the url from the text_string\n",
    "    :param replace_with_token: Boolean, replace the urls in the original string with a marker token\n",
    "    :param token_to_replace: Str, the token to replace the url\n",
    "\n",
    "    :return: text_sting: Sting as input but with urls removed if specified\n",
    "    :return: urls: List of unique urls in the text_string\n",
    "    \"\"\"\n",
    "\n",
    "    if text_string is np.nan:\n",
    "        text_string = ''\n",
    "\n",
    "    urls = list(set(re.findall(r\"(?:http|ftp|https)://[\\w_-]+(?:\\.[\\w_-]+)+(?:[\\w.,@?^=%&:/~+#-]*[\\w@?^=%&/~+#-])?\",\n",
    "                               text_string)))\n",
    "\n",
    "    if replace_with_token:\n",
    "        text_string = re.sub(r\"(?:http|ftp|https)://[\\w_-]+(?:\\.[\\w_-]+)\"\n",
    "                             r\"+(?:[\\w.,@?^=%&:/~+#-]*[\\w@?^=%&/~+#-])?\",\n",
    "                             token_to_replace,\n",
    "                             text_string)\n",
    "\n",
    "    if remove_urls and not replace_with_token:\n",
    "        text_string = re.sub(r\"(?:http|ftp|https)://[\\w_-]+(?:\\.[\\w_-]+)\"\n",
    "                             r\"+(?:[\\w.,@?^=%&:/~+#-]*[\\w@?^=%&/~+#-])?\",\n",
    "                             '',\n",
    "                             text_string)\n",
    "\n",
    "    return text_string, urls\n",
    "\n",
    "def negate_sequence_stem(text, stemmer):\n",
    "    \"\"\"\n",
    "    Detects negations and transforms negated words into \"not_\" form.\n",
    "    \"\"\"\n",
    "    negation = False\n",
    "    delims = \"?.,!:;\"\n",
    "    result = []\n",
    "    words = tokenizer_word(text,\n",
    "                           keep_phrases=False,\n",
    "                           tokenize_punc=True,\n",
    "                           split_clitics=False,\n",
    "                           keep_preceeding_space=False)\n",
    "    \n",
    "    for word in words:\n",
    "        if negation:\n",
    "            result.append(\"not_\"+word)\n",
    "            negation = False\n",
    "        else:\n",
    "            result.append(word)\n",
    "        if any(neg in word for neg in frozenset([\"not\", \"n't\", \"no\"])):\n",
    "            negation = True\n",
    "            result = result[:-1]\n",
    "        if any(c in word for c in delims):\n",
    "            negation = False\n",
    "    result = stemmer.stem_text(tokens=result)\n",
    "    return result\n",
    "\n",
    "\n",
    "def plot_confusion_matrix(cm, classes,\n",
    "                          normalize=False,\n",
    "                          title='Confusion matrix',\n",
    "                          cmap=plt.cm.Blues):\n",
    "    \"\"\"\n",
    "    This function prints and plots the confusion matrix.\n",
    "    Normalization can be applied by setting `normalize=True`.\n",
    "\n",
    "    :param cm: Confusion matrix\n",
    "    :param classes: Python list of class names\n",
    "    :param normalize: Boolean to normalize the matrix\n",
    "    :param title: Title of the graph\n",
    "    :param cmap: Colour map\n",
    "    \"\"\"\n",
    "\n",
    "    plt.imshow(cm, interpolation='nearest', cmap=cmap)\n",
    "    plt.title(title)\n",
    "    plt.colorbar()\n",
    "    tick_marks = np.arange(len(classes))\n",
    "    plt.xticks(tick_marks, classes, rotation=45)\n",
    "    plt.yticks(tick_marks, classes)\n",
    "\n",
    "    if normalize:\n",
    "        cm = cm.astype('float') / cm.sum(axis=1)[:, np.newaxis]\n",
    "        print(\"Normalized confusion matrix\")\n",
    "    else:\n",
    "        print('Confusion matrix, without normalization')\n",
    "\n",
    "    print(cm)\n",
    "\n",
    "    thresh = cm.max() / 2.\n",
    "    for i, j in itertools.product(range(cm.shape[0]), range(cm.shape[1])):\n",
    "        plt.text(j, i, \"{:.2f}\".format(cm[i, j]),\n",
    "                 horizontalalignment=\"center\",\n",
    "                 color=\"white\" if cm[i, j] > thresh else \"black\")\n",
    "\n",
    "    plt.tight_layout()\n",
    "    plt.ylabel('True label')\n",
    "    plt.xlabel('Predicted label')\n",
    "    plt.show()\n",
    "\n",
    "\n",
    "def tokenizer_sentence(text_string):\n",
    "    \"\"\"\n",
    "    Tokenizer that tokenizes a string of text into sentences\n",
    "\n",
    "    :param text_string: Python string object to be tokenized.\n",
    "    :return: Array of strings, each is a sentence\n",
    "    \"\"\"\n",
    "\n",
    "    sent_tokenize_list = sent_tokenize(text_string)\n",
    "\n",
    "    return sent_tokenize_list\n",
    "    \n",
    "class Stemmer():\n",
    "\n",
    "    def __init__(self, language='english'):\n",
    "        \"\"\"\n",
    "        :param language: String representing the language to be used\n",
    "        \"\"\"\n",
    "\n",
    "        self.stemmer = None\n",
    "\n",
    "        try:\n",
    "            self.stemmer = SnowballStemmer(language)\n",
    "        except ValueError as e:\n",
    "            print(\n",
    "                'Invalid language supplied to the stemmer, please choose from: ' + \" \".join(SnowballStemmer.languages) +\n",
    "                '\\nOr add a new stemmer to the repository ;)')\n",
    "\n",
    "    def stem_text(self,\n",
    "                  text_string=None,\n",
    "                  tokens=None,\n",
    "                  pos_tuples=False,\n",
    "                  check_trailing=True,\n",
    "                  tokens_to_ignore=None):\n",
    "        \"\"\"\n",
    "        Function that stems a text string using the NLTK snowball stemmer\n",
    "\n",
    "        :param text_string: Python string object to be tokenized and stemmed\n",
    "        :param tokens: Python list of strings already tokenized\n",
    "        :param pos_tuples: Bool, if tokens are a list of pos_tuples set this to true\n",
    "        :param tokens_to_ignore: List of Str, tokens to avoid cleaning\n",
    "\n",
    "        :return: String comparable to the input but with all words stemmed.\n",
    "        \"\"\"\n",
    "\n",
    "        if not tokens_to_ignore:\n",
    "            tokens_to_ignore = [\"[USER]\", \"[HASHTAG]\", \"[URL]\"]\n",
    "\n",
    "        if tokens is None:\n",
    "            tokens = []\n",
    "        if text_string is not None:\n",
    "            tokens = tokenizer_word(text_string,\n",
    "                                    tokens_to_ignore=tokens_to_ignore)\n",
    "            tokens = [self.stemmer.stem(token) if token not in tokens_to_ignore else token for token in tokens]\n",
    "            stemmed = \" \".join(tokens)\n",
    "        else:\n",
    "            stemmed = [self.stemmer.stem(token) for token in tokens]\n",
    "\n",
    "        return stemmed"
   ]
  },
  {
   "cell_type": "code",
   "execution_count": 3,
   "metadata": {
    "colab": {},
    "colab_type": "code",
    "id": "AayiRL-R9DPv"
   },
   "outputs": [
    {
     "name": "stdout",
     "output_type": "stream",
     "text": [
      "Train size: 900\n",
      "Val size: 15000\n"
     ]
    }
   ],
   "source": [
    "DATASET = 'amazon_movies'\n",
    "BALANCED = 'fair_balanced_300'\n",
    "\n",
    "notebook_dir = pathlib.Path.cwd()\n",
    "repo_dir = notebook_dir\n",
    "datasets_dir = repo_dir / \"datasets\"\n",
    "\n",
    "df_trn = pd.read_csv(datasets_dir / DATASET / BALANCED / \"train.csv\")\n",
    "df_val = pd.read_csv(datasets_dir / DATASET / BALANCED / \"validate.csv\")\n",
    "\n",
    "print(\"Train size:\", len(df_trn))\n",
    "print(\"Val size:\", len(df_val))"
   ]
  },
  {
   "cell_type": "code",
   "execution_count": 4,
   "metadata": {},
   "outputs": [],
   "source": [
    "df_trn['text'] = df_trn['text'].apply(lambda e: clean_text_for_language_model(e, \n",
    "                                                                              remove_users=True, \n",
    "                                                                              remove_urls=True, \n",
    "                                                                              remove_numbers=True))\n",
    "df_val['text'] = df_val['text'].apply(lambda e: clean_text_for_language_model(e, \n",
    "                                                                              remove_users=True, \n",
    "                                                                              remove_urls=True, \n",
    "                                                                              remove_numbers=True))"
   ]
  },
  {
   "cell_type": "code",
   "execution_count": 5,
   "metadata": {},
   "outputs": [
    {
     "data": {
      "text/plain": [
       "836    i am not out to convince anybody of anything.....\n",
       "818    unsure why this got so much hype(then again,im...\n",
       "574    i'm going to stand out here, but i really didn...\n",
       "175    these two movies are awesome. i had only seen ...\n",
       "750    after all the media attention and box office, ...\n",
       "150    polish filmaker polanski shows the truth in hi...\n",
       "795    i think people need to rethink their loyalty t...\n",
       "180    was a good movie. makes you think but is a wei...\n",
       "770     _tk_up_ plot _tk_up_ spoiler _tk_up_ alert! g...\n",
       "392    the plot does take a back seat in this film, d...\n",
       "Name: text, dtype: object"
      ]
     },
     "execution_count": 5,
     "metadata": {},
     "output_type": "execute_result"
    }
   ],
   "source": [
    "df_trn['text'].sample(n=10)"
   ]
  },
  {
   "cell_type": "code",
   "execution_count": 6,
   "metadata": {},
   "outputs": [
    {
     "name": "stdout",
     "output_type": "stream",
     "text": [
      "['i', 'love', 'my', 'dog', \"he's\", 'great']\n",
      "['i', 'not_love', 'my', 'dog', \"he's\", 'not_great']\n"
     ]
    }
   ],
   "source": [
    "def negate_sequence(text):\n",
    "    \"\"\"\n",
    "    Detects negations and transforms negated words into \"not_\" form.\n",
    "    \"\"\"\n",
    "    negation = False\n",
    "    delims = \"?.,!:;\"\n",
    "    result = []\n",
    "    words = tokenizer_word(text,\n",
    "                           keep_phrases=False,\n",
    "                           tokenize_punc=True,\n",
    "                           split_clitics=False,\n",
    "                           keep_preceeding_space=False)\n",
    "    for word in words:\n",
    "        if negation:\n",
    "            result.append(\"not_\"+word)\n",
    "            negation = False\n",
    "        else:\n",
    "            result.append(word)\n",
    "        if any(neg in word for neg in frozenset([\"not\", \"n't\", \"no\"])):\n",
    "            negation = True\n",
    "            result = result[:-1]\n",
    "        if any(c in word for c in delims):\n",
    "            negation = False\n",
    "    return result\n",
    "\n",
    "print(negate_sequence(\"i love my dog he's great\"))\n",
    "print(negate_sequence(\"i don't love my dog he's not great\"))"
   ]
  },
  {
   "cell_type": "code",
   "execution_count": 7,
   "metadata": {
    "colab": {
     "base_uri": "https://localhost:8080/",
     "height": 396
    },
    "colab_type": "code",
    "executionInfo": {
     "elapsed": 1257,
     "status": "ok",
     "timestamp": 1555094173227,
     "user": {
      "displayName": "Peter Usherwood",
      "photoUrl": "https://lh4.googleusercontent.com/-UfWGFihAdag/AAAAAAAAAAI/AAAAAAAAAI4/dINHEXgZkiQ/s64/photo.jpg",
      "userId": "11459160037307263961"
     },
     "user_tz": 180
    },
    "id": "OPvlleRu9aRe",
    "outputId": "90d3d832-9564-41e1-a7e3-44b8748d92a0"
   },
   "outputs": [],
   "source": [
    "import itertools\n",
    "import numpy as np\n",
    "import matplotlib.pyplot as plt\n",
    "\n",
    "\n",
    "def plot_confusion_matrix(cm, classes,\n",
    "                          normalize=False,\n",
    "                          title='Confusion matrix',\n",
    "                          cmap=plt.cm.Blues):\n",
    "    \"\"\"\n",
    "    This function prints and plots the confusion matrix.\n",
    "    Normalization can be applied by setting `normalize=True`.\n",
    "\n",
    "    :param cm: Confusion matrix\n",
    "    :param classes: Python list of class names\n",
    "    :param normalize: Boolean to normalize the matrix\n",
    "    :param title: Title of the graph\n",
    "    :param cmap: Colour map\n",
    "    \"\"\"\n",
    "\n",
    "    plt.imshow(cm, interpolation='nearest', cmap=cmap)\n",
    "    plt.title(title)\n",
    "    plt.colorbar()\n",
    "    tick_marks = np.arange(len(classes))\n",
    "    plt.xticks(tick_marks, classes, rotation=45)\n",
    "    plt.yticks(tick_marks, classes)\n",
    "\n",
    "    if normalize:\n",
    "        cm = cm.astype('float') / cm.sum(axis=1)[:, np.newaxis]\n",
    "        print(\"Normalized confusion matrix\")\n",
    "    else:\n",
    "        print('Confusion matrix, without normalization')\n",
    "\n",
    "    print(cm)\n",
    "\n",
    "    thresh = cm.max() / 2.\n",
    "    for i, j in itertools.product(range(cm.shape[0]), range(cm.shape[1])):\n",
    "        plt.text(j, i, \"{:.2f}\".format(cm[i, j]),\n",
    "                 horizontalalignment=\"center\",\n",
    "                 color=\"white\" if cm[i, j] > thresh else \"black\")\n",
    "\n",
    "    plt.tight_layout()\n",
    "    plt.ylabel('True label')\n",
    "    plt.xlabel('Predicted label')\n",
    "    plt.show()"
   ]
  },
  {
   "cell_type": "markdown",
   "metadata": {},
   "source": [
    "# Original Naive Bayes with Laplacian Smoothing"
   ]
  },
  {
   "cell_type": "code",
   "execution_count": 8,
   "metadata": {},
   "outputs": [
    {
     "data": {
      "text/plain": [
       "300"
      ]
     },
     "execution_count": 8,
     "metadata": {},
     "output_type": "execute_result"
    }
   ],
   "source": [
    "tier = int(BALANCED.split('_')[-1])\n",
    "tier"
   ]
  },
  {
   "cell_type": "code",
   "execution_count": 9,
   "metadata": {},
   "outputs": [],
   "source": [
    "cv = CountVectorizer(stop_words=None, \n",
    "                     ngram_range=(1,1),\n",
    "                     max_features=30*tier,\n",
    "                     tokenizer=lambda e: tokenizer_word(e, \n",
    "                                                        keep_phrases=False,\n",
    "                                                        tokenize_punc=True,\n",
    "                                                        split_clitics=False,\n",
    "                                                        keep_preceeding_space=False))\n",
    "\n",
    "cv_data_trn = cv.fit_transform(df_trn[\"text\"])\n",
    "cv_data_val = cv.transform(df_val[\"text\"])"
   ]
  },
  {
   "cell_type": "code",
   "execution_count": 10,
   "metadata": {},
   "outputs": [
    {
     "data": {
      "text/plain": [
       "MultinomialNB(alpha=1.0, class_prior=None, fit_prior=True)"
      ]
     },
     "execution_count": 10,
     "metadata": {},
     "output_type": "execute_result"
    }
   ],
   "source": [
    "model = MultinomialNB(alpha=1.0, \n",
    "                      fit_prior=True, \n",
    "                      class_prior=None)\n",
    "\n",
    "model.fit(cv_data_trn, df_trn['label'])"
   ]
  },
  {
   "cell_type": "code",
   "execution_count": 11,
   "metadata": {
    "colab": {},
    "colab_type": "code",
    "id": "CbIpTxAI9o3k"
   },
   "outputs": [
    {
     "name": "stdout",
     "output_type": "stream",
     "text": [
      "Confusion matrix, without normalization\n",
      "[[3206 1391  403]\n",
      " [1680 2392  928]\n",
      " [1202 1801 1997]]\n"
     ]
    },
    {
     "data": {
      "image/png": "[encoded data removed]",
      "text/plain": [
       "<Figure size 432x288 with 2 Axes>"
      ]
     },
     "metadata": {
      "needs_background": "light"
     },
     "output_type": "display_data"
    },
    {
     "name": "stdout",
     "output_type": "stream",
     "text": [
      "f1 score 0.5063333333333333\n"
     ]
    }
   ],
   "source": [
    "preds = model.predict(cv_data_val)\n",
    "cm_test = confusion_matrix(y_true=df_val[\"label\"], y_pred=preds)\n",
    "plot_confusion_matrix(cm_test,\n",
    "                      ['Negative', 'Neutral', 'Positive'],\n",
    "                      normalize=False,\n",
    "                      title='Validation')\n",
    "print(\"f1 score\", f1_score(df_val[\"label\"], preds, average=\"micro\"))"
   ]
  },
  {
   "cell_type": "markdown",
   "metadata": {},
   "source": [
    "# Handling Negation"
   ]
  },
  {
   "cell_type": "code",
   "execution_count": 120,
   "metadata": {},
   "outputs": [],
   "source": [
    "cv = CountVectorizer(stop_words=None, \n",
    "                     ngram_range=(1,1),\n",
    "                     max_features=30*tier,\n",
    "                     tokenizer=lambda e: negate_sequence(e))\n",
    "\n",
    "cv_data_trn = cv.fit_transform(df_trn[\"text\"])\n",
    "cv_data_val = cv.transform(df_val[\"text\"])"
   ]
  },
  {
   "cell_type": "code",
   "execution_count": 121,
   "metadata": {},
   "outputs": [
    {
     "data": {
      "text/plain": [
       "MultinomialNB(alpha=1.0, class_prior=None, fit_prior=True)"
      ]
     },
     "execution_count": 121,
     "metadata": {},
     "output_type": "execute_result"
    }
   ],
   "source": [
    "model = MultinomialNB(alpha=1.0, \n",
    "                      fit_prior=True, \n",
    "                      class_prior=None)\n",
    "\n",
    "model.fit(cv_data_trn, df_trn['label'])"
   ]
  },
  {
   "cell_type": "code",
   "execution_count": 122,
   "metadata": {
    "colab": {},
    "colab_type": "code",
    "id": "CbIpTxAI9o3k"
   },
   "outputs": [
    {
     "name": "stdout",
     "output_type": "stream",
     "text": [
      "Confusion matrix, without normalization\n",
      "[[3161 1133  706]\n",
      " [1673 1916 1411]\n",
      " [1137 1191 2672]]\n"
     ]
    },
    {
     "data": {
      "image/png": "[encoded data removed]",
      "text/plain": [
       "<Figure size 432x288 with 2 Axes>"
      ]
     },
     "metadata": {},
     "output_type": "display_data"
    },
    {
     "name": "stdout",
     "output_type": "stream",
     "text": [
      "f1 score 0.5166\n"
     ]
    }
   ],
   "source": [
    "preds = model.predict(cv_data_val)\n",
    "cm_test = confusion_matrix(y_true=df_val[\"label\"], y_pred=preds)\n",
    "plot_confusion_matrix(cm_test,\n",
    "                      ['Negative', 'Neutral', 'Positive'],\n",
    "                      normalize=False,\n",
    "                      title='Validation')\n",
    "print(\"f1 score\", f1_score(df_val[\"label\"], preds, average=\"micro\"))"
   ]
  },
  {
   "cell_type": "markdown",
   "metadata": {},
   "source": [
    "# Bernoulli"
   ]
  },
  {
   "cell_type": "code",
   "execution_count": 126,
   "metadata": {},
   "outputs": [],
   "source": [
    "cv = CountVectorizer(stop_words=None, \n",
    "                     ngram_range=(1,1),\n",
    "                     max_features=30*tier,\n",
    "                     tokenizer=lambda e: negate_sequence(e),\n",
    "                     binary=True)\n",
    "\n",
    "cv_data_trn = cv.fit_transform(df_trn[\"text\"])\n",
    "cv_data_val = cv.transform(df_val[\"text\"])"
   ]
  },
  {
   "cell_type": "code",
   "execution_count": 127,
   "metadata": {},
   "outputs": [
    {
     "data": {
      "text/plain": [
       "MultinomialNB(alpha=1.0, class_prior=None, fit_prior=True)"
      ]
     },
     "execution_count": 127,
     "metadata": {},
     "output_type": "execute_result"
    }
   ],
   "source": [
    "model = MultinomialNB(alpha=1.0, \n",
    "                      fit_prior=True, \n",
    "                      class_prior=None)\n",
    "\n",
    "model.fit(cv_data_trn, df_trn['label'])"
   ]
  },
  {
   "cell_type": "code",
   "execution_count": 128,
   "metadata": {
    "colab": {},
    "colab_type": "code",
    "id": "CbIpTxAI9o3k"
   },
   "outputs": [
    {
     "name": "stdout",
     "output_type": "stream",
     "text": [
      "Confusion matrix, without normalization\n",
      "[[3058 1169  773]\n",
      " [1454 2104 1442]\n",
      " [ 746 1213 3041]]\n"
     ]
    },
    {
     "data": {
      "image/png": "[encoded data removed]",
      "text/plain": [
       "<Figure size 432x288 with 2 Axes>"
      ]
     },
     "metadata": {},
     "output_type": "display_data"
    },
    {
     "name": "stdout",
     "output_type": "stream",
     "text": [
      "f1 score 0.5468666666666666\n"
     ]
    }
   ],
   "source": [
    "preds = model.predict(cv_data_val)\n",
    "cm_test = confusion_matrix(y_true=df_val[\"label\"], y_pred=preds)\n",
    "plot_confusion_matrix(cm_test,\n",
    "                      ['Negative', 'Neutral', 'Positive'],\n",
    "                      normalize=False,\n",
    "                      title='Validation')\n",
    "print(\"f1 score\", f1_score(df_val[\"label\"], preds, average=\"micro\"))"
   ]
  },
  {
   "cell_type": "markdown",
   "metadata": {},
   "source": [
    "# Bigrams and Trigrams"
   ]
  },
  {
   "cell_type": "code",
   "execution_count": 132,
   "metadata": {},
   "outputs": [],
   "source": [
    "cv = CountVectorizer(stop_words=None, \n",
    "                     ngram_range=(1,3),\n",
    "                     max_features=30*tier,\n",
    "                     tokenizer=lambda e: negate_sequence(e),\n",
    "                     binary=True)\n",
    "\n",
    "cv_data_trn = cv.fit_transform(df_trn[\"text\"])\n",
    "cv_data_val = cv.transform(df_val[\"text\"])"
   ]
  },
  {
   "cell_type": "code",
   "execution_count": 133,
   "metadata": {},
   "outputs": [
    {
     "data": {
      "text/plain": [
       "MultinomialNB(alpha=1.0, class_prior=None, fit_prior=True)"
      ]
     },
     "execution_count": 133,
     "metadata": {},
     "output_type": "execute_result"
    }
   ],
   "source": [
    "model = MultinomialNB(alpha=1.0, \n",
    "                      fit_prior=True, \n",
    "                      class_prior=None)\n",
    "\n",
    "model.fit(cv_data_trn, df_trn['label'])"
   ]
  },
  {
   "cell_type": "code",
   "execution_count": 134,
   "metadata": {
    "colab": {},
    "colab_type": "code",
    "id": "CbIpTxAI9o3k"
   },
   "outputs": [
    {
     "name": "stdout",
     "output_type": "stream",
     "text": [
      "Confusion matrix, without normalization\n",
      "[[3173 1291  536]\n",
      " [1383 2488 1129]\n",
      " [ 822 1531 2647]]\n"
     ]
    },
    {
     "data": {
      "image/png": "[encoded data removed]",
      "text/plain": [
       "<Figure size 432x288 with 2 Axes>"
      ]
     },
     "metadata": {},
     "output_type": "display_data"
    },
    {
     "name": "stdout",
     "output_type": "stream",
     "text": [
      "f1 score 0.5538666666666666\n"
     ]
    }
   ],
   "source": [
    "preds = model.predict(cv_data_val)\n",
    "cm_test = confusion_matrix(y_true=df_val[\"label\"], y_pred=preds)\n",
    "plot_confusion_matrix(cm_test,\n",
    "                      ['Negative', 'Neutral', 'Positive'],\n",
    "                      normalize=False,\n",
    "                      title='Validation')\n",
    "print(\"f1 score\", f1_score(df_val[\"label\"], preds, average=\"micro\"))"
   ]
  },
  {
   "cell_type": "markdown",
   "metadata": {},
   "source": [
    "# Stemming"
   ]
  },
  {
   "cell_type": "code",
   "execution_count": 78,
   "metadata": {},
   "outputs": [
    {
     "name": "stdout",
     "output_type": "stream",
     "text": [
      "['i', 'was', 'hope', 'this', 'not_b', 'over', 'quick']\n",
      "['not_w', 'all', 'just', 'be', 'friend', '?']\n"
     ]
    }
   ],
   "source": [
    "stemmer = Stemmer()\n",
    "\n",
    "def negate_sequence_stem(text, stemmer):\n",
    "    \"\"\"\n",
    "    Detects negations and transforms negated words into \"not_\" form.\n",
    "    \"\"\"\n",
    "    negation = False\n",
    "    delims = \"?.,!:;\"\n",
    "    result = []\n",
    "    words = tokenizer_word(text,\n",
    "                           keep_phrases=False,\n",
    "                           tokenize_punc=True,\n",
    "                           split_clitics=False,\n",
    "                           keep_preceeding_space=False)\n",
    "    \n",
    "    for word in words:\n",
    "        if negation:\n",
    "            result.append(\"not_\"+word)\n",
    "            negation = False\n",
    "        else:\n",
    "            result.append(word)\n",
    "        if any(neg in word for neg in frozenset([\"not\", \"n't\", \"no\"])):\n",
    "            negation = True\n",
    "            result = result[:-1]\n",
    "        if any(c in word for c in delims):\n",
    "            negation = False\n",
    "    result = stemmer.stem_text(tokens=result)\n",
    "    return result\n",
    "\n",
    "print(negate_sequence_stem(\"i was hoping this wouldn't be over quickly\", stemmer))\n",
    "print(negate_sequence_stem(\"can't we all just be friends?\", stemmer))"
   ]
  },
  {
   "cell_type": "code",
   "execution_count": 79,
   "metadata": {},
   "outputs": [],
   "source": [
    "cv = CountVectorizer(stop_words=None, \n",
    "                     ngram_range=(1,3),\n",
    "                     max_features=3000,\n",
    "                     tokenizer=lambda e: negate_sequence_stem(e, stemmer),\n",
    "                     binary=True)\n",
    "\n",
    "cv_data_trn = cv.fit_transform(df_trn[\"text\"])\n",
    "cv_data_val = cv.transform(df_val[\"text\"])"
   ]
  },
  {
   "cell_type": "code",
   "execution_count": 80,
   "metadata": {},
   "outputs": [
    {
     "data": {
      "text/plain": [
       "MultinomialNB(alpha=1.0, class_prior=None, fit_prior=True)"
      ]
     },
     "execution_count": 80,
     "metadata": {},
     "output_type": "execute_result"
    }
   ],
   "source": [
    "model = MultinomialNB(alpha=1.0, \n",
    "                      fit_prior=True, \n",
    "                      class_prior=None)\n",
    "\n",
    "model.fit(cv_data_trn, df_trn['label'])"
   ]
  },
  {
   "cell_type": "code",
   "execution_count": 81,
   "metadata": {
    "colab": {},
    "colab_type": "code",
    "id": "CbIpTxAI9o3k"
   },
   "outputs": [
    {
     "name": "stdout",
     "output_type": "stream",
     "text": [
      "Confusion matrix, without normalization\n",
      "[[2697 1447  856]\n",
      " [1407 2310 1283]\n",
      " [ 933 1439 2628]]\n"
     ]
    },
    {
     "data": {
      "image/png": "[encoded data removed]",
      "text/plain": [
       "<Figure size 432x288 with 2 Axes>"
      ]
     },
     "metadata": {},
     "output_type": "display_data"
    },
    {
     "name": "stdout",
     "output_type": "stream",
     "text": [
      "f1 score 0.509\n"
     ]
    }
   ],
   "source": [
    "preds = model.predict(cv_data_val)\n",
    "cm_test = confusion_matrix(y_true=df_val[\"label\"], y_pred=preds)\n",
    "plot_confusion_matrix(cm_test,\n",
    "                      ['Negative', 'Neutral', 'Positive'],\n",
    "                      normalize=False,\n",
    "                      title='Validation')\n",
    "print(\"f1 score\", f1_score(df_val[\"label\"], preds, average=\"micro\"))"
   ]
  },
  {
   "cell_type": "markdown",
   "metadata": {},
   "source": [
    "# Feature Selection 2: POS"
   ]
  },
  {
   "cell_type": "code",
   "execution_count": 82,
   "metadata": {},
   "outputs": [
    {
     "name": "stdout",
     "output_type": "stream",
     "text": [
      "Accuracy  0.9516883298514899\n",
      "Saving to utils_data/models/pos_taggers/simplified_en.pkl\n"
     ]
    },
    {
     "data": {
      "text/plain": [
       "True"
      ]
     },
     "execution_count": 82,
     "metadata": {},
     "output_type": "execute_result"
    }
   ],
   "source": [
    "from stan_preprocessing.processing.pos_tagging import train_pos_tagger, TagSnippets\n",
    "\n",
    "train_pos_tagger()"
   ]
  },
  {
   "cell_type": "code",
   "execution_count": 83,
   "metadata": {},
   "outputs": [
    {
     "name": "stdout",
     "output_type": "stream",
     "text": [
      "['was', 'realli', 'hope', 'this', 'not_b', 'quick']\n",
      "['just', 'be', 'that', 'big']\n"
     ]
    }
   ],
   "source": [
    "stemmer = Stemmer()\n",
    "tagger = TagSnippets('simplified_en_pos.pkl')\n",
    "\n",
    "def negate_sequence_pos(text, stemmer, tagger):\n",
    "    \"\"\"\n",
    "    Detects negations and transforms negated words into \"not_\" form.\n",
    "    \"\"\"\n",
    "    negation = False\n",
    "    delims = \"?.,!:;\"\n",
    "    result = []\n",
    "    \n",
    "    # Do POS\n",
    "    words = tagger.tag_snippet(text)\n",
    "    \n",
    "    #words = tokenizer_word(text,\n",
    "    #                       keep_phrases=False,\n",
    "    #                       tokenize_punc=True,\n",
    "    #                       split_clitics=False,\n",
    "    #                       keep_preceeding_space=False)\n",
    "    \n",
    "    # Deal with negation\n",
    "    for word, tag in words:\n",
    "        if negation:\n",
    "            result.append((\"not_\"+word, tag))\n",
    "            negation = False\n",
    "        else:\n",
    "            result.append((word, tag))\n",
    "        if any(neg in word for neg in frozenset([\"not\", \"n't\", \"no\"])):\n",
    "            negation = True\n",
    "            result = result[:-1]\n",
    "        if any(c in word for c in delims):\n",
    "            negation = False\n",
    "\n",
    "    # Select features and remove POS tag\n",
    "    result = [word for word, tag in result if tag in ['VB', 'AV', 'AD', \"QL\"]]\n",
    "    \n",
    "    # Stem resulting            \n",
    "    result = stemmer.stem_text(tokens=result)\n",
    "    \n",
    "    return result\n",
    "\n",
    "print(negate_sequence_pos(\"i was really hoping this wouldn't be over quickly\", stemmer, tagger))\n",
    "print(negate_sequence_pos(\"can't we all just be friends, that's a big house?\", stemmer, tagger))"
   ]
  },
  {
   "cell_type": "code",
   "execution_count": 87,
   "metadata": {},
   "outputs": [],
   "source": [
    "cv = CountVectorizer(stop_words=None, \n",
    "                     ngram_range=(1,3),\n",
    "                     max_features=30000,\n",
    "                     tokenizer=lambda e: negate_sequence_pos(e, stemmer, tagger),\n",
    "                     binary=True)\n",
    "\n",
    "cv_data_trn = cv.fit_transform(df_trn[\"text\"])\n",
    "cv_data_val = cv.transform(df_val[\"text\"])"
   ]
  },
  {
   "cell_type": "code",
   "execution_count": 88,
   "metadata": {},
   "outputs": [
    {
     "data": {
      "text/plain": [
       "MultinomialNB(alpha=1.0, class_prior=None, fit_prior=True)"
      ]
     },
     "execution_count": 88,
     "metadata": {},
     "output_type": "execute_result"
    }
   ],
   "source": [
    "model = MultinomialNB(alpha=1.0, \n",
    "                    fit_prior=True, \n",
    "                    class_prior=None)\n",
    "\n",
    "model.fit(cv_data_trn, df_trn['label'])"
   ]
  },
  {
   "cell_type": "code",
   "execution_count": 89,
   "metadata": {
    "colab": {},
    "colab_type": "code",
    "id": "CbIpTxAI9o3k"
   },
   "outputs": [
    {
     "name": "stdout",
     "output_type": "stream",
     "text": [
      "Confusion matrix, without normalization\n",
      "[[2058 1946  996]\n",
      " [ 904 2544 1552]\n",
      " [ 567 1718 2715]]\n"
     ]
    },
    {
     "data": {
      "image/png": "[encoded data removed]",
      "text/plain": [
       "<Figure size 432x288 with 2 Axes>"
      ]
     },
     "metadata": {},
     "output_type": "display_data"
    },
    {
     "name": "stdout",
     "output_type": "stream",
     "text": [
      "f1 score 0.4878\n"
     ]
    }
   ],
   "source": [
    "preds = model.predict(cv_data_val)\n",
    "cm_test = confusion_matrix(y_true=df_val[\"label\"], y_pred=preds)\n",
    "plot_confusion_matrix(cm_test,\n",
    "                      ['Negative', 'Neutral', 'Positive'],\n",
    "                      normalize=False,\n",
    "                      title='Validation')\n",
    "print(\"f1 score\", f1_score(df_val[\"label\"], preds, average=\"micro\"))"
   ]
  },
  {
   "cell_type": "markdown",
   "metadata": {},
   "source": [
    "# Feature Selection 1: Stopwords"
   ]
  },
  {
   "cell_type": "code",
   "execution_count": null,
   "metadata": {},
   "outputs": [],
   "source": [
    "cv = CountVectorizer(stop_words=\"english\", \n",
    "                     ngram_range=(1,3),\n",
    "                     max_features=300000,\n",
    "                     tokenizer=lambda e: negate_sequence(e),\n",
    "                     binary=True)\n",
    "\n",
    "cv_data_trn = cv.fit_transform(df_trn[\"text\"])\n",
    "cv_data_val = cv.transform(df_val[\"text\"])"
   ]
  },
  {
   "cell_type": "code",
   "execution_count": null,
   "metadata": {},
   "outputs": [],
   "source": [
    "model = MultinomialNB(alpha=1.0, \n",
    "                    fit_prior=True, \n",
    "                    class_prior=None)\n",
    "\n",
    "model.fit(cv_data_trn, df_trn['label'])"
   ]
  },
  {
   "cell_type": "code",
   "execution_count": null,
   "metadata": {
    "colab": {},
    "colab_type": "code",
    "id": "CbIpTxAI9o3k"
   },
   "outputs": [],
   "source": [
    "preds = model.predict(cv_data_val)\n",
    "cm_test = confusion_matrix(y_true=df_val[\"label\"], y_pred=preds)\n",
    "plot_confusion_matrix(cm_test,\n",
    "                      [1,2,3,4,5],\n",
    "                      normalize=False,\n",
    "                      title='Validation')\n",
    "print(\"f1 score\", f1_score(df_val[\"label\"], preds, average=\"micro\"))"
   ]
  }
 ],
 "metadata": {
  "colab": {
   "name": "ClassicalML.ipynb",
   "provenance": [],
   "version": "0.3.2"
  },
  "kernelspec": {
   "display_name": "Python 3",
   "language": "python",
   "name": "python3"
  },
  "language_info": {
   "codemirror_mode": {
    "name": "ipython",
    "version": 3
   },
   "file_extension": ".py",
   "mimetype": "text/x-python",
   "name": "python",
   "nbconvert_exporter": "python",
   "pygments_lexer": "ipython3",
   "version": "3.7.3"
  }
 },
 "nbformat": 4,
 "nbformat_minor": 1
}
