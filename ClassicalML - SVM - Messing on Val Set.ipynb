{
 "cells": [
  {
   "cell_type": "markdown",
   "metadata": {
    "colab_type": "text",
    "id": "gXuU3a_vkGIp"
   },
   "source": [
    "https://arxiv.org/ftp/arxiv/papers/1305/1305.6143.pdf"
   ]
  },
  {
   "cell_type": "code",
   "execution_count": 63,
   "metadata": {
    "colab": {
     "base_uri": "https://localhost:8080/",
     "height": 350
    },
    "colab_type": "code",
    "executionInfo": {
     "elapsed": 1612,
     "status": "error",
     "timestamp": 1558478625918,
     "user": {
      "displayName": "Peter Usherwood",
      "photoUrl": "https://lh4.googleusercontent.com/-UfWGFihAdag/AAAAAAAAAAI/AAAAAAAAAI4/dINHEXgZkiQ/s64/photo.jpg",
      "userId": "11459160037307263961"
     },
     "user_tz": 180
    },
    "id": "yi9kMKJo85hI",
    "outputId": "0387c15a-a54b-49a6-ef19-30d884444f73"
   },
   "outputs": [],
   "source": [
    "import pandas as pd\n",
    "import pathlib\n",
    "import matplotlib.pyplot as plt\n",
    "import regex as re\n",
    "import numpy as np\n",
    "\n",
    "\n",
    "from sklearn.metrics import f1_score\n",
    "from sklearn.model_selection import train_test_split\n",
    "from sklearn.feature_extraction.text import CountVectorizer\n",
    "from sklearn.svm import SVC\n",
    "from sklearn.naive_bayes import MultinomialNB\n",
    "from sklearn.metrics import accuracy_score, confusion_matrix"
   ]
  },
  {
   "cell_type": "code",
   "execution_count": 88,
   "metadata": {},
   "outputs": [],
   "source": [
    "def clean_text_for_language_model(text, remove_users=True, remove_urls=True, remove_numbers=True):\n",
    "    \"\"\"\n",
    "    Cleans text for deep learning language models, applies pre tokenization\n",
    "\n",
    "    :param text: Str, text string\n",
    "\n",
    "    :return: cleaned string\n",
    "    \"\"\"\n",
    "\n",
    "    re_repetition = re.compile(r'(\\S)(\\1{3,})') #repetition of multiple non-whitespace characters\n",
    "    re_word_repetition = re.compile(r'(\\b\\w+\\W+)(\\1{3,})') #repetition of multiple words\n",
    "\n",
    "    s = text\n",
    "    s = re_repetition.sub(replace_repeated_character, s)\n",
    "    s = re_word_repetition.sub(replace_repeated_word, s)\n",
    "    s = lower_and_add_toks_for_case(s)\n",
    "    s = add_spaces_to_hashtags_and_slashes(s)\n",
    "    s = remove_multiple_whitespace_from_string(s)\n",
    "    s = add_start_of_doc_tokens(s)\n",
    "    s = replace_repeated_punc(s)\n",
    "    if remove_numbers:\n",
    "        s = replace_numbers(s)\n",
    "    if remove_users:\n",
    "        s = extract_mentioned_users(s,\n",
    "                                    remove_users=False,\n",
    "                                    replace_with_token=True,\n",
    "                                    token_to_replace='[USER]')[0]\n",
    "    if remove_urls:\n",
    "        s = extract_urls(s,\n",
    "                         remove_urls=False,\n",
    "                         replace_with_token=True,\n",
    "                         token_to_replace='[URL]')[0]\n",
    "    return s\n",
    "\n",
    "\n",
    "def replace_repeated_character(m):\n",
    "    \"\"\"\n",
    "    The expression to sub for repeated letters\n",
    "\n",
    "    :param m: the match of the regex\n",
    "\n",
    "    :return: substituted string\n",
    "    \"\"\"\n",
    "    TK_REP = '_tk_rep_char_'\n",
    "    c, cc = m.groups()\n",
    "    return f' {TK_REP} {len(cc)+1} {c} '\n",
    "\n",
    "\n",
    "def replace_repeated_word(m):\n",
    "    \"\"\"\n",
    "    The expression to sub for repeated words\n",
    "\n",
    "    :param m: the match of the regex\n",
    "\n",
    "    :return: substituted string\n",
    "    \"\"\"\n",
    "    TK_WREP = '_tk_rep_word_'\n",
    "    c, cc = m.groups()\n",
    "    return f' {TK_WREP} {len(cc.split())+1} {c} '\n",
    "\n",
    "\n",
    "def replace_repeated_punc(s):\n",
    "    \"\"\"\n",
    "    Replace repeated punctuation and newline characters\n",
    "\n",
    "    :param s: text string\n",
    "\n",
    "    :return: modified text string\n",
    "    \"\"\"\n",
    "    s = re.sub(r'([^\\w\\d\\s]|\\n)(\\s\\1)+', r'_multi_punc_ \\1', s)\n",
    "    return s\n",
    "\n",
    "\n",
    "def remove_multiple_whitespace_from_string(s):\n",
    "    s = re.sub(' {2,}', ' ', s)\n",
    "    return s\n",
    "\n",
    "\n",
    "def add_spaces_to_hashtags_and_slashes(s):\n",
    "    s = re.sub(r'([/#])', r' \\1 ', s)\n",
    "    return s\n",
    "\n",
    "\n",
    "def add_start_of_doc_tokens(s):\n",
    "    TOK_DOC, TOK_SEC = '_tk_doc_', '_tk_section_'\n",
    "\n",
    "    for size, section_start in re.findall(r'\\n\\s((?:=\\s)*=)\\s([^=]+)\\s\\1\\s\\n', s):\n",
    "        if size == '=':\n",
    "            token = TOK_DOC\n",
    "        else:\n",
    "            token = TOK_SEC\n",
    "\n",
    "        s = re.sub(re.escape(size + ' ' + section_start + ' ' + size), token + ' ' + section_start + '.', s)\n",
    "\n",
    "    return s\n",
    "\n",
    "\n",
    "def lower_and_add_toks_for_case(s):\n",
    "    TOK_UP, TOK_SENT, TOK_MIX = ' _tk_up_ ', ' _tk_st_ ', ' _tk_mx_ '\n",
    "    res = []\n",
    "    prev = '.'\n",
    "    re_word = re.compile('\\w')\n",
    "    re_nonsp = re.compile('\\S')\n",
    "    for token in re.findall(r'\\w+|\\W+', s):\n",
    "        if token.isupper() and len(token) > 2:\n",
    "            res += [TOK_UP, token.lower()]\n",
    "        else:\n",
    "            res += [token.lower()]\n",
    "    return ''.join(res)\n",
    "\n",
    "\n",
    "def replace_numbers(s):\n",
    "    TOK_NUM = '_number_'\n",
    "\n",
    "    s = re.sub(r'[0-9]+', TOK_NUM, s)\n",
    "\n",
    "    return s\n",
    "\n",
    "\n",
    "def fixup(s):\n",
    "    re1 = re.compile(r'  +')\n",
    "    s = s.replace('#39;', \"'\").replace('amp;', '&').replace('#146;', \"'\").replace(\n",
    "        'nbsp;', ' ').replace('#36;', '$').replace('\\\\n', \"\\n\").replace('quot;', \"'\").replace(\n",
    "        '<br />', \"\\n\").replace('\\\\\"', '\"').replace('<unk>','u_n').replace(' @.@ ','.').replace(\n",
    "        ' @-@ ','-').replace('\\\\', ' \\\\ ')\n",
    "    return re1.sub(' ', html.unescape(s))\n",
    "\n",
    "\n",
    "def tokenizer_word(text_string,\n",
    "                   keep_phrases=False,\n",
    "                   tokenize_punc=False,\n",
    "                   split_clitics=False,\n",
    "                   keep_preceeding_space=False):\n",
    "    \"\"\"\n",
    "    Tokenizer that tokenizes a string of text on spaces and new lines (regardless of however many of each.)\n",
    "\n",
    "    :param text_string: Python string object to be tokenized.\n",
    "    :param keep_phrases: Booalean will not split \"quoted\" text\n",
    "    :param tokenize_punc: Boolean, if true will tokenize punctuation so \"hello,\" becomes [\"hello\", \",\"]\n",
    "    :param split_clitics: Boolean, if true will split tokens such as \"I'm\" into [I, 'm], must be tokenizing punctuation\n",
    "\n",
    "    :return: Array of strings, each is a word\n",
    "    \"\"\"\n",
    "\n",
    "    text_string = str(text_string)\n",
    "\n",
    "    if keep_phrases:\n",
    "        tokens = shlex.split(text_string.replace('\\n', ' ').replace('/', ' '))\n",
    "    elif tokenize_punc:\n",
    "        if split_clitics:\n",
    "            if keep_preceeding_space:\n",
    "                tokens = regex.findall(\n",
    "                    r\"(?<!\\s)'[\\w]*\"  # an apostrophe and potentially some other charaters, that come after non-whitespace\n",
    "                    \"|\\s?'\"  # an apostrophe, preceeded by whitespace\n",
    "                    \"|\\s?[\\w]+\"  # one or more word characters\n",
    "                    \"|\\s?[.,!?\\-;=\\n]\"  # any single character of [.,!?\\-;=\\n]\n",
    "                    \"| \\X\"\n",
    "                    \"|\\X\"\n",
    "                    , text_string, re.UNICODE)\n",
    "            else:\n",
    "                tokens = re.findall(r\"(?<!\\s)'[\\w]*|(?<=\\s)'|[\\w]+|[.,!?\\-;=\\n]\", text_string, re.UNICODE)\n",
    "        else:\n",
    "            tokens = re.findall(r\"[\\w']+|[.,!?\\-;=\\n]\", text_string)\n",
    "    else:\n",
    "        tokens = text_string.replace('\\n', ' ').replace('/', ' ').split()\n",
    "\n",
    "    return tokens\n",
    "\n",
    "\n",
    "def extract_mentioned_users(text_string,\n",
    "                            remove_users=False,\n",
    "                            replace_with_token=True,\n",
    "                            token_to_replace='[USER]'):\n",
    "    \"\"\"\n",
    "    Extracts mentioned_users from a text_string\n",
    "\n",
    "    :param text_string: String of text you wish to extract mentioned_users from\n",
    "    :param remove_users: Boolean, if True it will remove the mentioned_users from the text_string\n",
    "    :param replace_with_token: Boolean, replace the users in the original string with a marker token\n",
    "    :param token_to_replace: Str, the token to replace the user\n",
    "\n",
    "    :return: text_sting: Sting as input but with mentioned_users removed if specified\n",
    "    :return: mentioned_users: List of unique mentioned_users in the text_string\n",
    "    \"\"\"\n",
    "\n",
    "    if text_string is np.nan:\n",
    "        text_string = ''\n",
    "\n",
    "    mentioned_users = list(set(re.findall(r\"@\\w+\", text_string)))\n",
    "\n",
    "    if replace_with_token:\n",
    "        text_string = re.sub(r\"@\\w+\",\n",
    "                             token_to_replace,\n",
    "                             text_string)\n",
    "\n",
    "    if remove_users and not replace_with_token:\n",
    "        text_string = re.sub(r\"@\\w+\",\n",
    "                             '',\n",
    "                             text_string)\n",
    "\n",
    "    return text_string, mentioned_users\n",
    "\n",
    "\n",
    "def extract_urls(text_string,\n",
    "                 remove_urls=False,\n",
    "                 replace_with_token=True,\n",
    "                 token_to_replace='[URL]'):\n",
    "    \"\"\"\n",
    "    Extracts url from a text_string\n",
    "\n",
    "    :param text_string: String of text you wish to extract url from\n",
    "    :param remove_urls: Boolean, if True it will remove the url from the text_string\n",
    "    :param replace_with_token: Boolean, replace the urls in the original string with a marker token\n",
    "    :param token_to_replace: Str, the token to replace the url\n",
    "\n",
    "    :return: text_sting: Sting as input but with urls removed if specified\n",
    "    :return: urls: List of unique urls in the text_string\n",
    "    \"\"\"\n",
    "\n",
    "    if text_string is np.nan:\n",
    "        text_string = ''\n",
    "\n",
    "    urls = list(set(re.findall(r\"(?:http|ftp|https)://[\\w_-]+(?:\\.[\\w_-]+)+(?:[\\w.,@?^=%&:/~+#-]*[\\w@?^=%&/~+#-])?\",\n",
    "                               text_string)))\n",
    "\n",
    "    if replace_with_token:\n",
    "        text_string = re.sub(r\"(?:http|ftp|https)://[\\w_-]+(?:\\.[\\w_-]+)\"\n",
    "                             r\"+(?:[\\w.,@?^=%&:/~+#-]*[\\w@?^=%&/~+#-])?\",\n",
    "                             token_to_replace,\n",
    "                             text_string)\n",
    "\n",
    "    if remove_urls and not replace_with_token:\n",
    "        text_string = re.sub(r\"(?:http|ftp|https)://[\\w_-]+(?:\\.[\\w_-]+)\"\n",
    "                             r\"+(?:[\\w.,@?^=%&:/~+#-]*[\\w@?^=%&/~+#-])?\",\n",
    "                             '',\n",
    "                             text_string)\n",
    "\n",
    "    return text_string, urls\n",
    "\n",
    "def negate_sequence(text):\n",
    "    \"\"\"\n",
    "    Detects negations and transforms negated words into \"not_\" form.\n",
    "    \"\"\"\n",
    "    negation = False\n",
    "    delims = \"?.,!:;\"\n",
    "    result = []\n",
    "    words = tokenizer_word(text,\n",
    "                           keep_phrases=False,\n",
    "                           tokenize_punc=True,\n",
    "                           split_clitics=False,\n",
    "                           keep_preceeding_space=False)\n",
    "    \n",
    "    for word in words:\n",
    "        if negation:\n",
    "            result.append(\"not_\"+word)\n",
    "            negation = False\n",
    "        else:\n",
    "            result.append(word)\n",
    "        if any(neg in word for neg in frozenset([\"not\", \"n't\", \"no\"])):\n",
    "            negation = True\n",
    "            result = result[:-1]\n",
    "        if any(c in word for c in delims):\n",
    "            negation = False\n",
    "    return result\n",
    "\n",
    "\n",
    "def plot_confusion_matrix(cm, classes,\n",
    "                          normalize=False,\n",
    "                          title='Confusion matrix',\n",
    "                          cmap=plt.cm.Blues):\n",
    "    \"\"\"\n",
    "    This function prints and plots the confusion matrix.\n",
    "    Normalization can be applied by setting `normalize=True`.\n",
    "\n",
    "    :param cm: Confusion matrix\n",
    "    :param classes: Python list of class names\n",
    "    :param normalize: Boolean to normalize the matrix\n",
    "    :param title: Title of the graph\n",
    "    :param cmap: Colour map\n",
    "    \"\"\"\n",
    "\n",
    "    plt.imshow(cm, interpolation='nearest', cmap=cmap)\n",
    "    plt.title(title)\n",
    "    plt.colorbar()\n",
    "    tick_marks = np.arange(len(classes))\n",
    "    plt.xticks(tick_marks, classes, rotation=45)\n",
    "    plt.yticks(tick_marks, classes)\n",
    "\n",
    "    if normalize:\n",
    "        cm = cm.astype('float') / cm.sum(axis=1)[:, np.newaxis]\n",
    "        print(\"Normalized confusion matrix\")\n",
    "    else:\n",
    "        print('Confusion matrix, without normalization')\n",
    "\n",
    "    print(cm)\n",
    "\n",
    "    thresh = cm.max() / 2.\n",
    "    for i, j in itertools.product(range(cm.shape[0]), range(cm.shape[1])):\n",
    "        plt.text(j, i, \"{:.2f}\".format(cm[i, j]),\n",
    "                 horizontalalignment=\"center\",\n",
    "                 color=\"white\" if cm[i, j] > thresh else \"black\")\n",
    "\n",
    "    plt.tight_layout()\n",
    "    plt.ylabel('True label')\n",
    "    plt.xlabel('Predicted label')\n",
    "    plt.show()\n",
    "\n",
    "\n",
    "def tokenizer_sentence(text_string):\n",
    "    \"\"\"\n",
    "    Tokenizer that tokenizes a string of text into sentences\n",
    "\n",
    "    :param text_string: Python string object to be tokenized.\n",
    "    :return: Array of strings, each is a sentence\n",
    "    \"\"\"\n",
    "\n",
    "    sent_tokenize_list = sent_tokenize(text_string)\n",
    "\n",
    "    return sent_tokenize_list\n",
    "    \n",
    "class Stemmer():\n",
    "\n",
    "    def __init__(self, language='english'):\n",
    "        \"\"\"\n",
    "        :param language: String representing the language to be used\n",
    "        \"\"\"\n",
    "\n",
    "        self.stemmer = None\n",
    "\n",
    "        try:\n",
    "            self.stemmer = SnowballStemmer(language)\n",
    "        except ValueError as e:\n",
    "            print(\n",
    "                'Invalid language supplied to the stemmer, please choose from: ' + \" \".join(SnowballStemmer.languages) +\n",
    "                '\\nOr add a new stemmer to the repository ;)')\n",
    "\n",
    "    def stem_text(self,\n",
    "                  text_string=None,\n",
    "                  tokens=None,\n",
    "                  pos_tuples=False,\n",
    "                  check_trailing=True,\n",
    "                  tokens_to_ignore=None):\n",
    "        \"\"\"\n",
    "        Function that stems a text string using the NLTK snowball stemmer\n",
    "\n",
    "        :param text_string: Python string object to be tokenized and stemmed\n",
    "        :param tokens: Python list of strings already tokenized\n",
    "        :param pos_tuples: Bool, if tokens are a list of pos_tuples set this to true\n",
    "        :param tokens_to_ignore: List of Str, tokens to avoid cleaning\n",
    "\n",
    "        :return: String comparable to the input but with all words stemmed.\n",
    "        \"\"\"\n",
    "\n",
    "        if not tokens_to_ignore:\n",
    "            tokens_to_ignore = [\"[USER]\", \"[HASHTAG]\", \"[URL]\"]\n",
    "\n",
    "        if tokens is None:\n",
    "            tokens = []\n",
    "        if text_string is not None:\n",
    "            tokens = tokenizer_word(text_string,\n",
    "                                    tokens_to_ignore=tokens_to_ignore)\n",
    "            tokens = [self.stemmer.stem(token) if token not in tokens_to_ignore else token for token in tokens]\n",
    "            stemmed = \" \".join(tokens)\n",
    "        else:\n",
    "            stemmed = [self.stemmer.stem(token) for token in tokens]\n",
    "\n",
    "        return stemmed"
   ]
  },
  {
   "cell_type": "code",
   "execution_count": 89,
   "metadata": {
    "colab": {},
    "colab_type": "code",
    "id": "AayiRL-R9DPv",
    "outputId": "d0df4b37-6ca5-4b56-cd38-74ce4beeb74e"
   },
   "outputs": [
    {
     "name": "stdout",
     "output_type": "stream",
     "text": [
      "Train size: 900\n",
      "Val size: 3135\n"
     ]
    }
   ],
   "source": [
    "DATASET = 'semeval_task_a'\n",
    "BALANCED = 'fair_balanced_300'\n",
    "\n",
    "notebook_dir = pathlib.Path.cwd()\n",
    "repo_dir = notebook_dir\n",
    "datasets_dir = repo_dir / \"datasets\"\n",
    "\n",
    "df_trn = pd.read_csv(datasets_dir / DATASET / BALANCED / \"train.csv\")\n",
    "df_val = pd.read_csv(datasets_dir / DATASET / BALANCED / \"validate.csv\")\n",
    "\n",
    "print(\"Train size:\", len(df_trn))\n",
    "print(\"Val size:\", len(df_val))"
   ]
  },
  {
   "cell_type": "code",
   "execution_count": 90,
   "metadata": {
    "colab": {},
    "colab_type": "code",
    "id": "_P1088NwkGIy"
   },
   "outputs": [],
   "source": [
    "df_trn['text'] = df_trn['text'].apply(lambda e: clean_text_for_language_model(e, \n",
    "                                                                              remove_users=True, \n",
    "                                                                              remove_urls=True, \n",
    "                                                                              remove_numbers=True))\n",
    "df_val['text'] = df_val['text'].apply(lambda e: clean_text_for_language_model(e, \n",
    "                                                                              remove_users=True, \n",
    "                                                                              remove_urls=True, \n",
    "                                                                              remove_numbers=True))"
   ]
  },
  {
   "cell_type": "code",
   "execution_count": 91,
   "metadata": {
    "colab": {},
    "colab_type": "code",
    "id": "s-u4RmpukGI1",
    "outputId": "73cc1d1d-2a29-42da-fd2d-ac8d6bace516"
   },
   "outputs": [
    {
     "data": {
      "text/plain": [
       "341    if you haven't heard black friday by jcole and...\n",
       "213    do not think modi is the target for yakub dram...\n",
       "24     new york giants: game-by-game predictions for ...\n",
       "460    wish i couldve went to see miss may i tonight ...\n",
       "877    upgrading to windows _number_. might not be re...\n",
       "633    soo pissed had a crazy day at work and i total...\n",
       "357    our exciting card game, arsenal, is coming to ...\n",
       "790    congrats james franklin...that was the dumbest...\n",
       "435    watched 'gandhi' with gaurika today. was so ni...\n",
       "533    _number_-_number_ lavezzi on fire w his _numbe...\n",
       "Name: text, dtype: object"
      ]
     },
     "execution_count": 91,
     "metadata": {},
     "output_type": "execute_result"
    }
   ],
   "source": [
    "df_trn['text'].sample(n=10)"
   ]
  },
  {
   "cell_type": "code",
   "execution_count": 68,
   "metadata": {
    "colab": {},
    "colab_type": "code",
    "id": "tzi8p3jSkGI4",
    "outputId": "5561b365-43ca-4003-b2c5-d54be3ac0c0a"
   },
   "outputs": [
    {
     "name": "stdout",
     "output_type": "stream",
     "text": [
      "['i', 'love', 'my', 'dog', \"he's\", 'great']\n",
      "['i', 'not_love', 'my', 'dog', \"he's\", 'not_great']\n"
     ]
    }
   ],
   "source": [
    "def negate_sequence(text):\n",
    "    \"\"\"\n",
    "    Detects negations and transforms negated words into \"not_\" form.\n",
    "    \"\"\"\n",
    "    negation = False\n",
    "    delims = \"?.,!:;\"\n",
    "    result = []\n",
    "    words = tokenizer_word(text,\n",
    "                           keep_phrases=False,\n",
    "                           tokenize_punc=True,\n",
    "                           split_clitics=False,\n",
    "                           keep_preceeding_space=False)\n",
    "    for word in words:\n",
    "        if negation:\n",
    "            result.append(\"not_\"+word)\n",
    "            negation = False\n",
    "        else:\n",
    "            result.append(word)\n",
    "        if any(neg in word for neg in frozenset([\"not\", \"n't\", \"no\"])):\n",
    "            negation = True\n",
    "            result = result[:-1]\n",
    "        if any(c in word for c in delims):\n",
    "            negation = False\n",
    "    return result\n",
    "\n",
    "print(negate_sequence(\"i love my dog he's great\"))\n",
    "print(negate_sequence(\"i don't love my dog he's not great\"))"
   ]
  },
  {
   "cell_type": "code",
   "execution_count": 69,
   "metadata": {
    "colab": {},
    "colab_type": "code",
    "id": "OPvlleRu9aRe"
   },
   "outputs": [],
   "source": [
    "import itertools\n",
    "import numpy as np\n",
    "import matplotlib.pyplot as plt\n",
    "\n",
    "\n",
    "def plot_confusion_matrix(cm, classes,\n",
    "                          normalize=False,\n",
    "                          title='Confusion matrix',\n",
    "                          cmap=plt.cm.Blues):\n",
    "    \"\"\"\n",
    "    This function prints and plots the confusion matrix.\n",
    "    Normalization can be applied by setting `normalize=True`.\n",
    "\n",
    "    :param cm: Confusion matrix\n",
    "    :param classes: Python list of class names\n",
    "    :param normalize: Boolean to normalize the matrix\n",
    "    :param title: Title of the graph\n",
    "    :param cmap: Colour map\n",
    "    \"\"\"\n",
    "\n",
    "    plt.imshow(cm, interpolation='nearest', cmap=cmap)\n",
    "    plt.title(title)\n",
    "    plt.colorbar()\n",
    "    tick_marks = np.arange(len(classes))\n",
    "    plt.xticks(tick_marks, classes, rotation=45)\n",
    "    plt.yticks(tick_marks, classes)\n",
    "\n",
    "    if normalize:\n",
    "        cm = cm.astype('float') / cm.sum(axis=1)[:, np.newaxis]\n",
    "        print(\"Normalized confusion matrix\")\n",
    "    else:\n",
    "        print('Confusion matrix, without normalization')\n",
    "\n",
    "    print(cm)\n",
    "\n",
    "    thresh = cm.max() / 2.\n",
    "    for i, j in itertools.product(range(cm.shape[0]), range(cm.shape[1])):\n",
    "        plt.text(j, i, \"{:.2f}\".format(cm[i, j]),\n",
    "                 horizontalalignment=\"center\",\n",
    "                 color=\"white\" if cm[i, j] > thresh else \"black\")\n",
    "\n",
    "    plt.tight_layout()\n",
    "    plt.ylabel('True label')\n",
    "    plt.xlabel('Predicted label')\n",
    "    plt.show()"
   ]
  },
  {
   "cell_type": "markdown",
   "metadata": {
    "colab_type": "text",
    "id": "J85pbQskkGI-"
   },
   "source": [
    "# Original Naive Bayes with Laplacian Smoothing"
   ]
  },
  {
   "cell_type": "code",
   "execution_count": 70,
   "metadata": {
    "colab": {},
    "colab_type": "code",
    "id": "yT_jLY5_kGI-",
    "outputId": "8097f5c2-8f38-4995-d320-8abee5828ee6"
   },
   "outputs": [
    {
     "data": {
      "text/plain": [
       "300"
      ]
     },
     "execution_count": 70,
     "metadata": {},
     "output_type": "execute_result"
    }
   ],
   "source": [
    "tier = int(BALANCED.split('_')[-1])\n",
    "tier"
   ]
  },
  {
   "cell_type": "code",
   "execution_count": 71,
   "metadata": {
    "colab": {},
    "colab_type": "code",
    "id": "LK8V97dPkGJC"
   },
   "outputs": [],
   "source": [
    "cv = CountVectorizer(stop_words=None, \n",
    "                     ngram_range=(1,1),\n",
    "                     max_features=3*tier,\n",
    "                     tokenizer=lambda e: tokenizer_word(e, \n",
    "                                                        keep_phrases=False,\n",
    "                                                        tokenize_punc=True,\n",
    "                                                        split_clitics=False,\n",
    "                                                        keep_preceeding_space=False))\n",
    "\n",
    "cv_data_trn = cv.fit_transform(df_trn[\"text\"])\n",
    "cv_data_val = cv.transform(df_val[\"text\"])"
   ]
  },
  {
   "cell_type": "code",
   "execution_count": 74,
   "metadata": {
    "colab": {},
    "colab_type": "code",
    "id": "SKuhKikqkGJE",
    "outputId": "3fa67b39-0229-490c-8531-0b7cec96f158"
   },
   "outputs": [
    {
     "data": {
      "text/plain": [
       "SVC(C=10, cache_size=200, class_weight=None, coef0=0.0,\n",
       "  decision_function_shape='ovr', degree=3, gamma='auto_deprecated',\n",
       "  kernel='rbf', max_iter=-1, probability=False, random_state=None,\n",
       "  shrinking=True, tol=0.001, verbose=False)"
      ]
     },
     "execution_count": 74,
     "metadata": {},
     "output_type": "execute_result"
    }
   ],
   "source": [
    "model = SVC(kernel='rbf', C=10)\n",
    "\n",
    "model.fit(cv_data_trn, df_trn['label'])"
   ]
  },
  {
   "cell_type": "code",
   "execution_count": 75,
   "metadata": {
    "colab": {},
    "colab_type": "code",
    "id": "CbIpTxAI9o3k",
    "outputId": "e15aaaba-b72a-4050-d87e-f022b84280d1"
   },
   "outputs": [
    {
     "name": "stdout",
     "output_type": "stream",
     "text": [
      "Confusion matrix, without normalization\n",
      "[[589 254 202]\n",
      " [355 475 215]\n",
      " [308 310 427]]\n"
     ]
    },
    {
     "data": {
      "image/png": "[encoded data removed]",
      "text/plain": [
       "<Figure size 432x288 with 2 Axes>"
      ]
     },
     "metadata": {
      "needs_background": "light"
     },
     "output_type": "display_data"
    },
    {
     "name": "stdout",
     "output_type": "stream",
     "text": [
      "f1 score 0.4755980861244019\n"
     ]
    }
   ],
   "source": [
    "preds = model.predict(cv_data_val)\n",
    "cm_test = confusion_matrix(y_true=df_val[\"label\"], y_pred=preds)\n",
    "plot_confusion_matrix(cm_test,\n",
    "                      ['Negative', 'Neutral', 'Positive'],\n",
    "                      normalize=False,\n",
    "                      title='Validation')\n",
    "print(\"f1 score\", f1_score(df_val[\"label\"], preds, average=\"micro\"))"
   ]
  },
  {
   "cell_type": "markdown",
   "metadata": {
    "colab_type": "text",
    "id": "esPFA6L5kGJL"
   },
   "source": [
    "# Handling Negation"
   ]
  },
  {
   "cell_type": "code",
   "execution_count": 76,
   "metadata": {
    "colab": {},
    "colab_type": "code",
    "id": "j5oBjGTlkGJL"
   },
   "outputs": [],
   "source": [
    "cv = CountVectorizer(stop_words=None, \n",
    "                     ngram_range=(1,1),\n",
    "                     max_features=3*tier,\n",
    "                     tokenizer=lambda e: negate_sequence(e))\n",
    "\n",
    "cv_data_trn = cv.fit_transform(df_trn[\"text\"])\n",
    "cv_data_val = cv.transform(df_val[\"text\"])"
   ]
  },
  {
   "cell_type": "code",
   "execution_count": 78,
   "metadata": {
    "colab": {},
    "colab_type": "code",
    "id": "H8-6mvuGkGJO",
    "outputId": "984e79d6-2a13-4f62-9840-04015f20024a"
   },
   "outputs": [
    {
     "data": {
      "text/plain": [
       "SVC(C=10, cache_size=200, class_weight=None, coef0=0.0,\n",
       "  decision_function_shape='ovr', degree=3, gamma='auto_deprecated',\n",
       "  kernel='rbf', max_iter=-1, probability=False, random_state=None,\n",
       "  shrinking=True, tol=0.001, verbose=False)"
      ]
     },
     "execution_count": 78,
     "metadata": {},
     "output_type": "execute_result"
    }
   ],
   "source": [
    "model = SVC(kernel='rbf', C=10)\n",
    "\n",
    "model.fit(cv_data_trn, df_trn['label'])"
   ]
  },
  {
   "cell_type": "code",
   "execution_count": 79,
   "metadata": {},
   "outputs": [
    {
     "name": "stdout",
     "output_type": "stream",
     "text": [
      "Confusion matrix, without normalization\n",
      "[[633 249 163]\n",
      " [399 458 188]\n",
      " [350 307 388]]\n"
     ]
    },
    {
     "data": {
      "image/png": "[encoded data removed]",
      "text/plain": [
       "<Figure size 432x288 with 2 Axes>"
      ]
     },
     "metadata": {
      "needs_background": "light"
     },
     "output_type": "display_data"
    },
    {
     "name": "stdout",
     "output_type": "stream",
     "text": [
      "f1 score 0.4717703349282297\n"
     ]
    }
   ],
   "source": [
    "preds = model.predict(cv_data_val)\n",
    "cm_test = confusion_matrix(y_true=df_val[\"label\"], y_pred=preds)\n",
    "plot_confusion_matrix(cm_test,\n",
    "                      ['Negative', 'Neutral', 'Positive'],\n",
    "                      normalize=False,\n",
    "                      title='Validation')\n",
    "print(\"f1 score\", f1_score(df_val[\"label\"], preds, average=\"micro\"))"
   ]
  },
  {
   "cell_type": "markdown",
   "metadata": {
    "colab_type": "text",
    "id": "ANFBNetUkGJV"
   },
   "source": [
    "# Vary C"
   ]
  },
  {
   "cell_type": "code",
   "execution_count": 80,
   "metadata": {
    "colab": {},
    "colab_type": "code",
    "id": "7dZFbc0RkGJW"
   },
   "outputs": [],
   "source": [
    "cv = CountVectorizer(stop_words=None, \n",
    "                     ngram_range=(1,1),\n",
    "                     max_features=3*tier,\n",
    "                     tokenizer=lambda e: tokenizer_word(e, \n",
    "                                                        keep_phrases=False,\n",
    "                                                        tokenize_punc=True,\n",
    "                                                        split_clitics=False,\n",
    "                                                        keep_preceeding_space=False))\n",
    "\n",
    "cv_data_trn = cv.fit_transform(df_trn[\"text\"])\n",
    "cv_data_val = cv.transform(df_val[\"text\"])"
   ]
  },
  {
   "cell_type": "code",
   "execution_count": 81,
   "metadata": {
    "colab": {},
    "colab_type": "code",
    "id": "TFMmLSh_kGJZ",
    "outputId": "5e8440df-4d6d-4417-a1fe-8d3ba654209d"
   },
   "outputs": [
    {
     "name": "stdout",
     "output_type": "stream",
     "text": [
      "Confusion matrix, without normalization\n",
      "[[881  69  95]\n",
      " [727 168 150]\n",
      " [644 114 287]]\n"
     ]
    },
    {
     "data": {
      "image/png": "[encoded data removed]",
      "text/plain": [
       "<Figure size 432x288 with 2 Axes>"
      ]
     },
     "metadata": {
      "needs_background": "light"
     },
     "output_type": "display_data"
    },
    {
     "name": "stdout",
     "output_type": "stream",
     "text": [
      "f1 score 0.42615629984051034\n",
      "Confusion matrix, without normalization\n",
      "[[868  85  92]\n",
      " [713 196 136]\n",
      " [631 142 272]]\n"
     ]
    },
    {
     "data": {
      "image/png": "[encoded data removed]",
      "text/plain": [
       "<Figure size 432x288 with 2 Axes>"
      ]
     },
     "metadata": {
      "needs_background": "light"
     },
     "output_type": "display_data"
    },
    {
     "name": "stdout",
     "output_type": "stream",
     "text": [
      "f1 score 0.42615629984051034\n",
      "Confusion matrix, without normalization\n",
      "[[589 254 202]\n",
      " [355 475 215]\n",
      " [308 310 427]]\n"
     ]
    },
    {
     "data": {
      "image/png": "[encoded data removed]",
      "text/plain": [
       "<Figure size 432x288 with 2 Axes>"
      ]
     },
     "metadata": {
      "needs_background": "light"
     },
     "output_type": "display_data"
    },
    {
     "name": "stdout",
     "output_type": "stream",
     "text": [
      "f1 score 0.4755980861244019\n",
      "Confusion matrix, without normalization\n",
      "[[529 300 216]\n",
      " [299 499 247]\n",
      " [225 350 470]]\n"
     ]
    },
    {
     "data": {
      "image/png": "[encoded data removed]",
      "text/plain": [
       "<Figure size 432x288 with 2 Axes>"
      ]
     },
     "metadata": {
      "needs_background": "light"
     },
     "output_type": "display_data"
    },
    {
     "name": "stdout",
     "output_type": "stream",
     "text": [
      "f1 score 0.4778309409888357\n",
      "Confusion matrix, without normalization\n",
      "[[540 290 215]\n",
      " [350 437 258]\n",
      " [231 340 474]]\n"
     ]
    },
    {
     "data": {
      "image/png": "[encoded data removed]",
      "text/plain": [
       "<Figure size 432x288 with 2 Axes>"
      ]
     },
     "metadata": {
      "needs_background": "light"
     },
     "output_type": "display_data"
    },
    {
     "name": "stdout",
     "output_type": "stream",
     "text": [
      "f1 score 0.46283891547049444\n"
     ]
    }
   ],
   "source": [
    "for c in [.1, 1, 10, 100, 1000]:\n",
    "    model = SVC(kernel='rbf', C=c)\n",
    "\n",
    "    model.fit(cv_data_trn, df_trn['label'])\n",
    "    \n",
    "    preds = model.predict(cv_data_val)\n",
    "    cm_test = confusion_matrix(y_true=df_val[\"label\"], y_pred=preds)\n",
    "    plot_confusion_matrix(cm_test,\n",
    "                          ['Negative', 'Neutral', 'Positive'],\n",
    "                          normalize=False,\n",
    "                          title='Validation')\n",
    "    print(\"f1 score\", f1_score(df_val[\"label\"], preds, average=\"micro\"))"
   ]
  },
  {
   "cell_type": "markdown",
   "metadata": {},
   "source": [
    "# Brnoulli"
   ]
  },
  {
   "cell_type": "code",
   "execution_count": 82,
   "metadata": {},
   "outputs": [],
   "source": [
    "cv = CountVectorizer(stop_words=None, \n",
    "                     ngram_range=(1,1),\n",
    "                     max_features=3*tier,\n",
    "                     tokenizer=lambda e: tokenizer_word(e, \n",
    "                                                        keep_phrases=False,\n",
    "                                                        tokenize_punc=True,\n",
    "                                                        split_clitics=False,\n",
    "                                                        keep_preceeding_space=False),\n",
    "                    binary=True)\n",
    "\n",
    "cv_data_trn = cv.fit_transform(df_trn[\"text\"])\n",
    "cv_data_val = cv.transform(df_val[\"text\"])"
   ]
  },
  {
   "cell_type": "code",
   "execution_count": 83,
   "metadata": {},
   "outputs": [
    {
     "data": {
      "text/plain": [
       "SVC(C=10, cache_size=200, class_weight=None, coef0=0.0,\n",
       "  decision_function_shape='ovr', degree=3, gamma='auto_deprecated',\n",
       "  kernel='rbf', max_iter=-1, probability=False, random_state=None,\n",
       "  shrinking=True, tol=0.001, verbose=False)"
      ]
     },
     "execution_count": 83,
     "metadata": {},
     "output_type": "execute_result"
    }
   ],
   "source": [
    "model = SVC(kernel='rbf', C=10)\n",
    "\n",
    "model.fit(cv_data_trn, df_trn['label'])"
   ]
  },
  {
   "cell_type": "code",
   "execution_count": 84,
   "metadata": {},
   "outputs": [
    {
     "name": "stdout",
     "output_type": "stream",
     "text": [
      "Confusion matrix, without normalization\n",
      "[[601 264 180]\n",
      " [337 483 225]\n",
      " [265 318 462]]\n"
     ]
    },
    {
     "data": {
      "image/png": "[encoded data removed]",
      "text/plain": [
       "<Figure size 432x288 with 2 Axes>"
      ]
     },
     "metadata": {
      "needs_background": "light"
     },
     "output_type": "display_data"
    },
    {
     "name": "stdout",
     "output_type": "stream",
     "text": [
      "f1 score 0.4931419457735247\n"
     ]
    }
   ],
   "source": [
    "preds = model.predict(cv_data_val)\n",
    "cm_test = confusion_matrix(y_true=df_val[\"label\"], y_pred=preds)\n",
    "plot_confusion_matrix(cm_test,\n",
    "                      ['Negative', 'Neutral', 'Positive'],\n",
    "                      normalize=False,\n",
    "                      title='Validation')\n",
    "print(\"f1 score\", f1_score(df_val[\"label\"], preds, average=\"micro\"))"
   ]
  },
  {
   "cell_type": "markdown",
   "metadata": {
    "colab_type": "text",
    "id": "R29e6vYJkGJi"
   },
   "source": [
    "# Bigrams and Trigrams"
   ]
  },
  {
   "cell_type": "code",
   "execution_count": 85,
   "metadata": {
    "colab": {},
    "colab_type": "code",
    "id": "jRe-7ymdkGJj"
   },
   "outputs": [],
   "source": [
    "cv = CountVectorizer(stop_words=None, \n",
    "                     ngram_range=(1,3),\n",
    "                     max_features=3*tier,\n",
    "                     tokenizer=lambda e: tokenizer_word(e, \n",
    "                                                        keep_phrases=False,\n",
    "                                                        tokenize_punc=True,\n",
    "                                                        split_clitics=False,\n",
    "                                                        keep_preceeding_space=False),\n",
    "                    binary=True)\n",
    "\n",
    "cv_data_trn = cv.fit_transform(df_trn[\"text\"])\n",
    "cv_data_val = cv.transform(df_val[\"text\"])"
   ]
  },
  {
   "cell_type": "code",
   "execution_count": 86,
   "metadata": {
    "colab": {},
    "colab_type": "code",
    "id": "Ibfn0J3AkGJl",
    "outputId": "70f47481-06b6-43ed-eb18-2b51d1f6d605"
   },
   "outputs": [
    {
     "data": {
      "text/plain": [
       "SVC(C=10, cache_size=200, class_weight=None, coef0=0.0,\n",
       "  decision_function_shape='ovr', degree=3, gamma='auto_deprecated',\n",
       "  kernel='rbf', max_iter=-1, probability=False, random_state=None,\n",
       "  shrinking=True, tol=0.001, verbose=False)"
      ]
     },
     "execution_count": 86,
     "metadata": {},
     "output_type": "execute_result"
    }
   ],
   "source": [
    "model = SVC(kernel='rbf', C=10)\n",
    "\n",
    "model.fit(cv_data_trn, df_trn['label'])"
   ]
  },
  {
   "cell_type": "code",
   "execution_count": 87,
   "metadata": {},
   "outputs": [
    {
     "name": "stdout",
     "output_type": "stream",
     "text": [
      "Confusion matrix, without normalization\n",
      "[[624 237 184]\n",
      " [374 460 211]\n",
      " [310 285 450]]\n"
     ]
    },
    {
     "data": {
      "image/png": "[encoded data removed]",
      "text/plain": [
       "<Figure size 432x288 with 2 Axes>"
      ]
     },
     "metadata": {
      "needs_background": "light"
     },
     "output_type": "display_data"
    },
    {
     "name": "stdout",
     "output_type": "stream",
     "text": [
      "f1 score 0.4893141945773525\n"
     ]
    }
   ],
   "source": [
    "preds = model.predict(cv_data_val)\n",
    "cm_test = confusion_matrix(y_true=df_val[\"label\"], y_pred=preds)\n",
    "plot_confusion_matrix(cm_test,\n",
    "                      ['Negative', 'Neutral', 'Positive'],\n",
    "                      normalize=False,\n",
    "                      title='Validation')\n",
    "print(\"f1 score\", f1_score(df_val[\"label\"], preds, average=\"micro\"))"
   ]
  },
  {
   "cell_type": "markdown",
   "metadata": {
    "colab_type": "text",
    "id": "wYHiXollkGJv"
   },
   "source": [
    "# Stemming"
   ]
  },
  {
   "cell_type": "code",
   "execution_count": 0,
   "metadata": {
    "colab": {},
    "colab_type": "code",
    "id": "1PVUVNPFkGJw",
    "outputId": "fd03ca9e-1172-4e5c-a8af-4f13faf65258"
   },
   "outputs": [
    {
     "name": "stdout",
     "output_type": "stream",
     "text": [
      "['i', 'was', 'hope', 'this', 'not_b', 'over', 'quick']\n",
      "['not_w', 'all', 'just', 'be', 'friend', '?']\n"
     ]
    }
   ],
   "source": [
    "stemmer = Stemmer()\n",
    "\n",
    "def negate_sequence_stem(text, stemmer):\n",
    "    \"\"\"\n",
    "    Detects negations and transforms negated words into \"not_\" form.\n",
    "    \"\"\"\n",
    "    negation = False\n",
    "    delims = \"?.,!:;\"\n",
    "    result = []\n",
    "    words = tokenizer_word(text,\n",
    "                           keep_phrases=False,\n",
    "                           tokenize_punc=True,\n",
    "                           split_clitics=False,\n",
    "                           keep_preceeding_space=False)\n",
    "    \n",
    "    for word in words:\n",
    "        if negation:\n",
    "            result.append(\"not_\"+word)\n",
    "            negation = False\n",
    "        else:\n",
    "            result.append(word)\n",
    "        if any(neg in word for neg in frozenset([\"not\", \"n't\", \"no\"])):\n",
    "            negation = True\n",
    "            result = result[:-1]\n",
    "        if any(c in word for c in delims):\n",
    "            negation = False\n",
    "    result = stemmer.stem_text(tokens=result)\n",
    "    return result\n",
    "\n",
    "print(negate_sequence_stem(\"i was hoping this wouldn't be over quickly\", stemmer))\n",
    "print(negate_sequence_stem(\"can't we all just be friends?\", stemmer))"
   ]
  },
  {
   "cell_type": "code",
   "execution_count": 0,
   "metadata": {
    "colab": {},
    "colab_type": "code",
    "id": "lujWnKLOkGJ0"
   },
   "outputs": [],
   "source": [
    "cv = CountVectorizer(stop_words=None, \n",
    "                     ngram_range=(1,3),\n",
    "                     max_features=3000,\n",
    "                     tokenizer=lambda e: negate_sequence_stem(e, stemmer),\n",
    "                     binary=True)\n",
    "\n",
    "cv_data_trn = cv.fit_transform(df_trn[\"text\"])\n",
    "cv_data_val = cv.transform(df_val[\"text\"])"
   ]
  },
  {
   "cell_type": "code",
   "execution_count": 0,
   "metadata": {
    "colab": {},
    "colab_type": "code",
    "id": "8QPamzb4kGJ2",
    "outputId": "5a4372a6-d4a8-4afb-d43a-c18f042fcd8f"
   },
   "outputs": [
    {
     "data": {
      "text/plain": [
       "MultinomialNB(alpha=1.0, class_prior=None, fit_prior=True)"
      ]
     },
     "execution_count": 80,
     "metadata": {
      "tags": []
     },
     "output_type": "execute_result"
    }
   ],
   "source": [
    "model = MultinomialNB(alpha=1.0, \n",
    "                      fit_prior=True, \n",
    "                      class_prior=None)\n",
    "\n",
    "model.fit(cv_data_trn, df_trn['label'])"
   ]
  },
  {
   "cell_type": "markdown",
   "metadata": {
    "colab_type": "text",
    "id": "KzlNzX_OkGJ8"
   },
   "source": [
    "# Feature Selection 2: POS"
   ]
  },
  {
   "cell_type": "code",
   "execution_count": 0,
   "metadata": {
    "colab": {},
    "colab_type": "code",
    "id": "1vKLnj3UkGJ9",
    "outputId": "f5839c8f-2637-42f3-f969-8dd2b68695a6"
   },
   "outputs": [
    {
     "name": "stdout",
     "output_type": "stream",
     "text": [
      "Accuracy  0.9516883298514899\n",
      "Saving to utils_data/models/pos_taggers/simplified_en.pkl\n"
     ]
    },
    {
     "data": {
      "text/plain": [
       "True"
      ]
     },
     "execution_count": 82,
     "metadata": {
      "tags": []
     },
     "output_type": "execute_result"
    }
   ],
   "source": [
    "from stan_preprocessing.processing.pos_tagging import train_pos_tagger, TagSnippets\n",
    "\n",
    "train_pos_tagger()"
   ]
  },
  {
   "cell_type": "code",
   "execution_count": 0,
   "metadata": {
    "colab": {},
    "colab_type": "code",
    "id": "yI6cH4oqkGKA",
    "outputId": "3de7db2c-5b67-4b45-d485-74032529963d"
   },
   "outputs": [
    {
     "name": "stdout",
     "output_type": "stream",
     "text": [
      "['was', 'realli', 'hope', 'this', 'not_b', 'quick']\n",
      "['just', 'be', 'that', 'big']\n"
     ]
    }
   ],
   "source": [
    "stemmer = Stemmer()\n",
    "tagger = TagSnippets('simplified_en_pos.pkl')\n",
    "\n",
    "def negate_sequence_pos(text, stemmer, tagger):\n",
    "    \"\"\"\n",
    "    Detects negations and transforms negated words into \"not_\" form.\n",
    "    \"\"\"\n",
    "    negation = False\n",
    "    delims = \"?.,!:;\"\n",
    "    result = []\n",
    "    \n",
    "    # Do POS\n",
    "    words = tagger.tag_snippet(text)\n",
    "    \n",
    "    #words = tokenizer_word(text,\n",
    "    #                       keep_phrases=False,\n",
    "    #                       tokenize_punc=True,\n",
    "    #                       split_clitics=False,\n",
    "    #                       keep_preceeding_space=False)\n",
    "    \n",
    "    # Deal with negation\n",
    "    for word, tag in words:\n",
    "        if negation:\n",
    "            result.append((\"not_\"+word, tag))\n",
    "            negation = False\n",
    "        else:\n",
    "            result.append((word, tag))\n",
    "        if any(neg in word for neg in frozenset([\"not\", \"n't\", \"no\"])):\n",
    "            negation = True\n",
    "            result = result[:-1]\n",
    "        if any(c in word for c in delims):\n",
    "            negation = False\n",
    "\n",
    "    # Select features and remove POS tag\n",
    "    result = [word for word, tag in result if tag in ['VB', 'AV', 'AD', \"QL\"]]\n",
    "    \n",
    "    # Stem resulting            \n",
    "    result = stemmer.stem_text(tokens=result)\n",
    "    \n",
    "    return result\n",
    "\n",
    "print(negate_sequence_pos(\"i was really hoping this wouldn't be over quickly\", stemmer, tagger))\n",
    "print(negate_sequence_pos(\"can't we all just be friends, that's a big house?\", stemmer, tagger))"
   ]
  },
  {
   "cell_type": "code",
   "execution_count": 0,
   "metadata": {
    "colab": {},
    "colab_type": "code",
    "id": "V6MSfzxekGKC"
   },
   "outputs": [],
   "source": [
    "cv = CountVectorizer(stop_words=None, \n",
    "                     ngram_range=(1,3),\n",
    "                     max_features=30000,\n",
    "                     tokenizer=lambda e: negate_sequence_pos(e, stemmer, tagger),\n",
    "                     binary=True)\n",
    "\n",
    "cv_data_trn = cv.fit_transform(df_trn[\"text\"])\n",
    "cv_data_val = cv.transform(df_val[\"text\"])"
   ]
  },
  {
   "cell_type": "code",
   "execution_count": 0,
   "metadata": {
    "colab": {},
    "colab_type": "code",
    "id": "XiZBfMGAkGKE",
    "outputId": "783bf6ba-a8bc-478f-ad63-fee3c36851f6"
   },
   "outputs": [
    {
     "data": {
      "text/plain": [
       "MultinomialNB(alpha=1.0, class_prior=None, fit_prior=True)"
      ]
     },
     "execution_count": 88,
     "metadata": {
      "tags": []
     },
     "output_type": "execute_result"
    }
   ],
   "source": [
    "model = MultinomialNB(alpha=1.0, \n",
    "                    fit_prior=True, \n",
    "                    class_prior=None)\n",
    "\n",
    "model.fit(cv_data_trn, df_trn['label'])"
   ]
  },
  {
   "cell_type": "markdown",
   "metadata": {
    "colab_type": "text",
    "id": "kgDPMHb3kGKM"
   },
   "source": [
    "# Feature Selection 1: Stopwords"
   ]
  },
  {
   "cell_type": "code",
   "execution_count": 0,
   "metadata": {
    "colab": {},
    "colab_type": "code",
    "id": "eQ7-5b8NkGKM"
   },
   "outputs": [],
   "source": [
    "cv = CountVectorizer(stop_words=\"english\", \n",
    "                     ngram_range=(1,3),\n",
    "                     max_features=300000,\n",
    "                     tokenizer=lambda e: negate_sequence(e),\n",
    "                     binary=True)\n",
    "\n",
    "cv_data_trn = cv.fit_transform(df_trn[\"text\"])\n",
    "cv_data_val = cv.transform(df_val[\"text\"])"
   ]
  },
  {
   "cell_type": "code",
   "execution_count": 0,
   "metadata": {
    "colab": {},
    "colab_type": "code",
    "id": "iMX-zUKtkGKO"
   },
   "outputs": [],
   "source": [
    "model = MultinomialNB(alpha=1.0, \n",
    "                    fit_prior=True, \n",
    "                    class_prior=None)\n",
    "\n",
    "model.fit(cv_data_trn, df_trn['label'])"
   ]
  }
 ],
 "metadata": {
  "colab": {
   "name": "ClassicalML - SVM - Messing on Val Set.ipynb",
   "provenance": [],
   "version": "0.3.2"
  },
  "kernelspec": {
   "display_name": "Python 3",
   "language": "python",
   "name": "python3"
  }
 },
 "nbformat": 4,
 "nbformat_minor": 1
}
