{
 "cells": [
  {
   "cell_type": "code",
   "execution_count": null,
   "metadata": {},
   "outputs": [],
   "source": [
    "import pandas as pd\n",
    "import numpy as np\n",
    "import csv\n",
    "import re\n",
    "import progressbar\n",
    "\n",
    "from stan_preprocessing.preprocessing.preprocess import preprocess_df"
   ]
  },
  {
   "cell_type": "markdown",
   "metadata": {},
   "source": [
    "# Raw to Parsed"
   ]
  },
  {
   "cell_type": "code",
   "execution_count": null,
   "metadata": {},
   "outputs": [],
   "source": [
    "max_movies = 500000\n",
    "skip_n_movies = 0\n",
    "\n",
    "id_product = 'product/productId'\n",
    "id_user = 'review/userId'\n",
    "profile_name = 'review/profileName'\n",
    "review_helpfulness = 'review/helpfulness'\n",
    "review_score = 'review/score'\n",
    "review_time = 'review/time'\n",
    "review_summary = 'review/summary'\n",
    "review_text = 'review/text'\n",
    "\n",
    "with open('../datasets/amazon_movies/movies.txt', encoding='latin-1') as ofile:\n",
    "    \n",
    "    movie_n = 0\n",
    "    df_rows = []\n",
    "    df_row = [None, None, None, None, None, None, None, None]\n",
    "    \n",
    "    for line in ofile:\n",
    "        if movie_n > (max_movies + skip_n_movies):\n",
    "            break\n",
    "\n",
    "        elif movie_n < skip_n_movies:\n",
    "            data = re.findall('(?:: )(.{0,})',line)\n",
    "            if id_product in line[:20]:\n",
    "                movie_n += 1\n",
    "\n",
    "        else:\n",
    "\n",
    "            data = re.findall('(?:: )(.{0,})',line)\n",
    "\n",
    "            if id_product in line[:20]:\n",
    "                df_rows.append(df_row)\n",
    "                df_row = [None, None, None, None, None, None, None, None]\n",
    "                movie_n += 1\n",
    "                df_row[0] = data[0]\n",
    "\n",
    "            elif id_user in line[:20]:\n",
    "                df_row[1] = data[0]\n",
    "\n",
    "            elif profile_name in line[:20]:\n",
    "                df_row[2] = data[0]\n",
    "\n",
    "            elif review_helpfulness in line[:20]:\n",
    "                df_row[3] = data[0]\n",
    "\n",
    "            elif review_score in line[:20]:\n",
    "                df_row[4] = data[0]\n",
    "\n",
    "            elif review_time in line[:20]:\n",
    "                df_row[5] = data[0]\n",
    "\n",
    "            elif review_summary in line[:20]:\n",
    "                df_row[6] = data[0]\n",
    "\n",
    "            elif review_text in line[:20]:\n",
    "                df_row[7] = data[0] \n",
    "                \n",
    "df = pd.DataFrame(df_rows, columns=['ID','User ID','User Name','Helpfulness','Score','Time','Header','Text'])\n",
    "df.drop(0, 0, inplace=True)\n",
    "df = preprocess_df(data=df, text_field_key='Text')\n",
    "df.to_csv('en_amazon_movies_0Mto0p5M.csv',\n",
    "          encoding='utf-8',\n",
    "          quoting=csv.QUOTE_ALL,\n",
    "          index=False)"
   ]
  },
  {
   "cell_type": "code",
   "execution_count": null,
   "metadata": {},
   "outputs": [],
   "source": [
    "df[:5]"
   ]
  },
  {
   "cell_type": "code",
   "execution_count": null,
   "metadata": {},
   "outputs": [],
   "source": []
  }
 ],
 "metadata": {
  "anaconda-cloud": {},
  "kernelspec": {
   "display_name": "Python 3",
   "language": "python",
   "name": "python3"
  },
  "language_info": {
   "codemirror_mode": {
    "name": "ipython",
    "version": 3
   },
   "file_extension": ".py",
   "mimetype": "text/x-python",
   "name": "python",
   "nbconvert_exporter": "python",
   "pygments_lexer": "ipython3",
   "version": "3.6.5"
  }
 },
 "nbformat": 4,
 "nbformat_minor": 1
}
